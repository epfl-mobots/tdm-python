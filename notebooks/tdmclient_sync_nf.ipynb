{
 "cells": [
  {
   "cell_type": "markdown",
   "id": "61ddb190",
   "metadata": {},
   "source": [
    "# Synchronized tdmclient interactive session\n",
    "## Native functions\n",
    "\n",
    "This notebook illustrates the use of Thymio native functions. Native functions run in short programs on the Thymio. We'll write them as separate cells with the `%%run_python` magic command."
   ]
  },
  {
   "cell_type": "markdown",
   "id": "36dda064-2184-403c-a493-87b992d93621",
   "metadata": {},
   "source": [
    "Make sure the latest version of tdmclient is installed:"
   ]
  },
  {
   "cell_type": "code",
   "execution_count": null,
   "id": "efb269a7",
   "metadata": {},
   "outputs": [],
   "source": [
    "%pip install --upgrade --quiet tdmclient"
   ]
  },
  {
   "cell_type": "markdown",
   "id": "b56261f3",
   "metadata": {},
   "source": [
    "Import the required class."
   ]
  },
  {
   "cell_type": "code",
   "execution_count": null,
   "id": "d98ee06c",
   "metadata": {},
   "outputs": [],
   "source": [
    "import tdmclient.notebook"
   ]
  },
  {
   "cell_type": "markdown",
   "id": "cf25ca2d",
   "metadata": {},
   "source": [
    "Connect to the TDM and start variable synchronization with the first robot:"
   ]
  },
  {
   "cell_type": "code",
   "execution_count": null,
   "id": "dfe6604c",
   "metadata": {
    "scrolled": true
   },
   "outputs": [],
   "source": [
    "await tdmclient.notebook.start()"
   ]
  },
  {
   "cell_type": "markdown",
   "id": "ea7a42cc",
   "metadata": {},
   "source": [
    "### Math functions"
   ]
  },
  {
   "cell_type": "markdown",
   "id": "03cac152-f587-49b3-a672-14d4d4827eac",
   "metadata": {},
   "source": [
    "Most math functions return a result. Many of them can work on lists. Because the Thymio has limited support for lists in expressions, most math functions can be used in two ways, with two different names:\n",
    "- `nf_math_*` with list arguments but without returned value. They cannot be used inside expressions. List arguments must be list variables or elements enumerated between square brackets.\n",
    "- `math_*` with scalar arguments for their input(s) and a scalar returned value. The result can be used in a simple assignment like `x = math.max(a,b)`, an augmented assignment like `x += math.max(a,b)`, or in a larger expression like `x = 5+math.max(a,math.max(b,c))`."
   ]
  },
  {
   "cell_type": "markdown",
   "id": "b86e6b3e-b930-4400-904b-bae0fd1562e4",
   "metadata": {},
   "source": [
    "List copy:"
   ]
  },
  {
   "cell_type": "code",
   "execution_count": null,
   "id": "a7592d41-656f-4bc7-8ff0-c137cf6a57ec",
   "metadata": {},
   "outputs": [],
   "source": [
    "%%run_python\n",
    "src = [1,2,3]\n",
    "dest = [4,5,6]\n",
    "nf_math_copy(dest, src)"
   ]
  },
  {
   "cell_type": "markdown",
   "id": "6eb451ee-5cbb-41b0-a38d-3e3e57841c2e",
   "metadata": {},
   "source": [
    "List fill:"
   ]
  },
  {
   "cell_type": "code",
   "execution_count": null,
   "id": "9697da68-92a8-4bae-8f12-b7924b5436b5",
   "metadata": {},
   "outputs": [],
   "source": [
    "%%run_python\n",
    "dest = [4,5,6]\n",
    "nf_math_fill(dest, 123)"
   ]
  },
  {
   "cell_type": "markdown",
   "id": "c51837be-9e16-47de-9f53-aef861b6e740",
   "metadata": {},
   "source": [
    "Add scalar to list elements:"
   ]
  },
  {
   "cell_type": "code",
   "execution_count": null,
   "id": "e699c83e-755f-4746-95ac-f6ffdd2b7ce5",
   "metadata": {},
   "outputs": [],
   "source": [
    "%%run_python\n",
    "src = [1,2,3]\n",
    "dest = 3 * [0]\n",
    "nf_math_addscalar(dest, src, 10)"
   ]
  },
  {
   "cell_type": "markdown",
   "id": "a07b593b-dceb-4863-ac1e-b7e6e495194b",
   "metadata": {},
   "source": [
    "Add corresponding elements of two lists:"
   ]
  },
  {
   "cell_type": "code",
   "execution_count": null,
   "id": "9a4d8982-e891-4513-b7af-dcc05579c16d",
   "metadata": {},
   "outputs": [],
   "source": [
    "%%run_python\n",
    "A = [1,2,3]\n",
    "B = [10,50,100]\n",
    "dest = 3 * [0]\n",
    "nf_math_add(dest, A, B)"
   ]
  },
  {
   "cell_type": "markdown",
   "id": "671cdfef-3726-4177-aa96-edc04a0687e5",
   "metadata": {},
   "source": [
    "Subtract corresponding elements of two lists"
   ]
  },
  {
   "cell_type": "code",
   "execution_count": null,
   "id": "453cf851",
   "metadata": {},
   "outputs": [],
   "source": [
    "%%run_python\n",
    "A = [1,2,3]\n",
    "B = [10,50,100]\n",
    "dest = 3 * [0]\n",
    "nf_math_sub(dest, A, B)"
   ]
  },
  {
   "cell_type": "markdown",
   "id": "6a54398d",
   "metadata": {},
   "source": [
    "Multiply corresponding elements of two lists:"
   ]
  },
  {
   "cell_type": "code",
   "execution_count": null,
   "id": "cb4170d3-20d2-4c09-9976-66a45b5f3252",
   "metadata": {},
   "outputs": [],
   "source": [
    "%%run_python\n",
    "A = [1,2,3]\n",
    "B = [10,20,10]\n",
    "dest = 3 * [0]\n",
    "nf_math_mul(dest, A, B)"
   ]
  },
  {
   "cell_type": "markdown",
   "id": "e86aabd0-6cea-457e-b12e-5bcec47a7e3c",
   "metadata": {},
   "source": [
    "Divide corresponding elements of two lists:"
   ]
  },
  {
   "cell_type": "code",
   "execution_count": null,
   "id": "79279828",
   "metadata": {
    "scrolled": true
   },
   "outputs": [],
   "source": [
    "%%run_python\n",
    "A = [100,100,100]\n",
    "B = [2,3,10]\n",
    "dest = 3 * [0]\n",
    "nf_math_div(dest, A, B)"
   ]
  },
  {
   "cell_type": "markdown",
   "id": "bd3d3786",
   "metadata": {},
   "source": [
    "Get the minimum of corresponding elements of two lists:"
   ]
  },
  {
   "cell_type": "code",
   "execution_count": null,
   "id": "8acedbec",
   "metadata": {},
   "outputs": [],
   "source": [
    "%%run_python\n",
    "A = [1, 10, 5]\n",
    "B = [3, 3, 100]\n",
    "dest = 3 * [0]\n",
    "nf_math_min(dest, A, B)"
   ]
  },
  {
   "cell_type": "markdown",
   "id": "fec269c9",
   "metadata": {},
   "source": [
    "Get the minimum of two numbers:"
   ]
  },
  {
   "cell_type": "code",
   "execution_count": null,
   "id": "10b60f0e",
   "metadata": {},
   "outputs": [],
   "source": [
    "%%run_python\n",
    "x = math_min(4 * 6, 5 * 5)"
   ]
  },
  {
   "cell_type": "markdown",
   "id": "980608bc",
   "metadata": {},
   "source": [
    "Get the maximum of corresponding elements of two lists:"
   ]
  },
  {
   "cell_type": "code",
   "execution_count": null,
   "id": "710456a4",
   "metadata": {},
   "outputs": [],
   "source": [
    "%%run_python\n",
    "A = [1, 10, 5]\n",
    "B = [3, 3, 100]\n",
    "dest = 3 * [0]\n",
    "nf_math_max(dest, A, B)"
   ]
  },
  {
   "cell_type": "markdown",
   "id": "8fa2db96-7ec4-40c8-b2fd-fbe37a38bff9",
   "metadata": {},
   "source": [
    "Get the maximum of two numbers:"
   ]
  },
  {
   "cell_type": "code",
   "execution_count": null,
   "id": "cc35e492",
   "metadata": {},
   "outputs": [],
   "source": [
    "%%run_python\n",
    "x = math_max(4 * 6, 5 * 5)"
   ]
  },
  {
   "cell_type": "markdown",
   "id": "4d3538c1",
   "metadata": {},
   "source": [
    "Clamp values between two limits, all arguments given as lists:"
   ]
  },
  {
   "cell_type": "code",
   "execution_count": null,
   "id": "88b85bf7-6d17-4c7d-9dd6-ec8c292c4b0f",
   "metadata": {},
   "outputs": [],
   "source": [
    "%%run_python\n",
    "X = [1, 5, 10, 20, 100]\n",
    "Xmin = [3, 3, 3, 3, 3]\n",
    "Xmax = [15, 15, 15, 15, 15]\n",
    "dest = 5 * [0]\n",
    "nf_math_clamp(dest, X, Xmin, Xmax)"
   ]
  },
  {
   "cell_type": "markdown",
   "id": "d06bf67c-623d-4a93-a017-2692b1f2c2f5",
   "metadata": {},
   "source": [
    "Clamp a number between two limits:"
   ]
  },
  {
   "cell_type": "code",
   "execution_count": null,
   "id": "6e51f9db-9598-4338-9185-b8615433303c",
   "metadata": {},
   "outputs": [],
   "source": [
    "%%run_python\n",
    "x = 12\n",
    "x_clamped = math_clamp(x, 0, 10)"
   ]
  },
  {
   "cell_type": "markdown",
   "id": "bb9109c4-d392-4558-b974-36893ab98a2c",
   "metadata": {},
   "source": [
    "Fill list with pseudo-random numbers:"
   ]
  },
  {
   "cell_type": "code",
   "execution_count": null,
   "id": "c1b8facf-3bea-420f-a4c4-6dbac12952bd",
   "metadata": {},
   "outputs": [],
   "source": [
    "%%run_python\n",
    "dest = 5 * [0]\n",
    "nf_math_rand(dest)"
   ]
  },
  {
   "cell_type": "markdown",
   "id": "dc35d7e7-f9ef-40c6-abb4-c53b2b5d31dd",
   "metadata": {},
   "source": [
    "Get a pseudo-random number:"
   ]
  },
  {
   "cell_type": "code",
   "execution_count": null,
   "id": "9c0421e3-f3d3-4c56-92c8-7987e3676299",
   "metadata": {},
   "outputs": [],
   "source": [
    "%%run_python\n",
    "x = math_rand()"
   ]
  },
  {
   "cell_type": "markdown",
   "id": "69ffb6c4-7626-4125-9eda-1f08c23da5e9",
   "metadata": {},
   "source": [
    "Sort a list:"
   ]
  },
  {
   "cell_type": "code",
   "execution_count": null,
   "id": "25f847d4-81aa-4502-ab1d-d65645ae11e2",
   "metadata": {},
   "outputs": [],
   "source": [
    "%%run_python\n",
    "A = [5,3,10,2,1]\n",
    "nf_math_sort(A)"
   ]
  },
  {
   "cell_type": "markdown",
   "id": "07c3139b-e2e8-4091-ad08-52fbf52a49c3",
   "metadata": {},
   "source": [
    "Multiply two numbers and divide the result by a third number, with a 32-bit intermediate value to avoid overflow. Arguments and result are given as lists."
   ]
  },
  {
   "cell_type": "code",
   "execution_count": null,
   "id": "59507ff7-8503-4dc9-bded-1ccab5df4570",
   "metadata": {},
   "outputs": [],
   "source": [
    "%%run_python\n",
    "\n",
    "# increase values by 15% (multiply by 115/100)\n",
    "X = [100, 900]\n",
    "num = [115, 115]\n",
    "den = [100, 100]\n",
    "Y = 2 * [0]\n",
    "nf_math_muldiv(Y, X, num, den)"
   ]
  },
  {
   "cell_type": "markdown",
   "id": "980908d0-62cd-47c7-a3c6-8a1f59846707",
   "metadata": {},
   "source": [
    "Multiply two numbers and divide the result by a third number, with a 32-bit intermediate value to avoid overflow. Arguments and result are numbers."
   ]
  },
  {
   "cell_type": "code",
   "execution_count": null,
   "id": "823e268b-8ac6-40aa-909e-77a76b519183",
   "metadata": {},
   "outputs": [],
   "source": [
    "%%run_python\n",
    "\n",
    "# decrease value by 15% (multiply by 85/100)\n",
    "x = 1234\n",
    "y = math_muldiv(x, 85, 100)"
   ]
  },
  {
   "cell_type": "markdown",
   "id": "5c94ca3f-8a1b-4843-8c0f-17f24f3bef3e",
   "metadata": {},
   "source": [
    "Calculate the arctan2 of the corresponding numbers in two lists. Angles are mapped to the interval [-32768,32767]."
   ]
  },
  {
   "cell_type": "code",
   "execution_count": null,
   "id": "35f4fa20-0357-46f3-8049-5b690bcdbe5d",
   "metadata": {},
   "outputs": [],
   "source": [
    "%%run_python\n",
    "\n",
    "X = [10, -20]\n",
    "Y = [25, -53]\n",
    "angles = 2 * [0]\n",
    "nf_math_atan2(angles, Y, X)"
   ]
  },
  {
   "cell_type": "markdown",
   "id": "7c1ee3e0-c1ca-4aa6-9280-4bd343f76ab2",
   "metadata": {},
   "source": [
    "Calculate the arctan2 of numbers:"
   ]
  },
  {
   "cell_type": "code",
   "execution_count": null,
   "id": "70b2c7f9-d500-4475-b59a-b67a717982a5",
   "metadata": {},
   "outputs": [],
   "source": [
    "%%run_python\n",
    "\n",
    "x = 148; y = -17\n",
    "phi = math_atan2(y, x)"
   ]
  },
  {
   "cell_type": "markdown",
   "id": "c3c1b9c1-8ba3-47a0-bb72-f9c8a81be4fa",
   "metadata": {},
   "source": [
    "Calculate the sine of elements in a list:"
   ]
  },
  {
   "cell_type": "code",
   "execution_count": null,
   "id": "9a68ba70-ca50-4793-bcc8-4b42b6f4bcca",
   "metadata": {
    "tags": []
   },
   "outputs": [],
   "source": [
    "%%run_python\n",
    "\n",
    "Phi = [0, 100, 1000]\n",
    "Y = 3 * [0]\n",
    "nf_math_sin(Y, Phi)"
   ]
  },
  {
   "cell_type": "markdown",
   "id": "d20396e9-c112-4145-b8ff-6210831f2d92",
   "metadata": {},
   "source": [
    "Calculate the sine of a number:"
   ]
  },
  {
   "cell_type": "code",
   "execution_count": null,
   "id": "6774e649-3adb-4175-b0bd-2f32cb88e452",
   "metadata": {},
   "outputs": [],
   "source": [
    "%%run_python\n",
    "\n",
    "x = 29\n",
    "y = math_sin(3 * x)"
   ]
  },
  {
   "cell_type": "markdown",
   "id": "0929140c-ad41-4add-be44-eaca79fb343b",
   "metadata": {},
   "source": [
    "Calculate the cosine of elements in a list:"
   ]
  },
  {
   "cell_type": "code",
   "execution_count": null,
   "id": "b7c4b826-a025-402e-b650-3b5f4eab32a4",
   "metadata": {},
   "outputs": [],
   "source": [
    "%%run_python\n",
    "\n",
    "Phi = [0, 100, 1000]\n",
    "Y = 3 * [0]\n",
    "nf_math_cos(Y, Phi)"
   ]
  },
  {
   "cell_type": "markdown",
   "id": "f8ec32e7-0706-49ec-88d1-829e0121bb92",
   "metadata": {},
   "source": [
    "Calculate the cosine of a number:"
   ]
  },
  {
   "cell_type": "code",
   "execution_count": null,
   "id": "2818fa36-aad6-4bba-b9ea-ee2b047b532e",
   "metadata": {},
   "outputs": [],
   "source": [
    "%%run_python\n",
    "\n",
    "x = 29\n",
    "y = 2 * math_cos(x + 5)"
   ]
  },
  {
   "cell_type": "markdown",
   "id": "adc5725b-fed4-4813-80ee-9df54fbe9087",
   "metadata": {},
   "source": [
    "Rotate a 2D vector by an angle:"
   ]
  },
  {
   "cell_type": "code",
   "execution_count": null,
   "id": "844036f6-1bc4-4663-bf4a-f2746051e92b",
   "metadata": {},
   "outputs": [],
   "source": [
    "%%run_python\n",
    "\n",
    "v1 = [100, 70]\n",
    "phi = math_muldiv(15, 16384, 90)  # 15 deg mapped to Thymio's angle range\n",
    "v2 = [0, 0]\n",
    "nf_math_rot2(v2, v1, phi)"
   ]
  },
  {
   "cell_type": "markdown",
   "id": "218acdf5-0cfc-48f3-ab20-fa30d253160b",
   "metadata": {},
   "source": [
    "Calculate the square root of elements in a list:"
   ]
  },
  {
   "cell_type": "code",
   "execution_count": null,
   "id": "5a3154a1-d5d8-44fa-94f7-e58d94d244db",
   "metadata": {},
   "outputs": [],
   "source": [
    "%%run_python\n",
    "\n",
    "X = [10, 100, 1000]\n",
    "Y = 3 * [0]\n",
    "nf_math_sqrt(Y, X)"
   ]
  },
  {
   "cell_type": "markdown",
   "id": "f60fe904-19d8-443e-aa40-bd1e997f436d",
   "metadata": {},
   "source": [
    "Calculate the square root of a number:"
   ]
  },
  {
   "cell_type": "code",
   "execution_count": null,
   "id": "0a189bc5-ec43-4592-ad12-1ae49ff69db6",
   "metadata": {},
   "outputs": [],
   "source": [
    "%%run_python\n",
    "h = math_sqrt(3 * 3 + 4 * 4)"
   ]
  },
  {
   "cell_type": "markdown",
   "id": "7df454d6-b82e-46aa-92a0-2e24feca0b9a",
   "metadata": {},
   "source": [
    "### Thymio functions"
   ]
  },
  {
   "cell_type": "markdown",
   "id": "15567fe9-e58f-4e7c-bbce-0597ffb2c3f1",
   "metadata": {},
   "source": [
    "Play system sound:"
   ]
  },
  {
   "cell_type": "code",
   "execution_count": null,
   "id": "fe336369-adf4-465c-8d72-364cafdc609e",
   "metadata": {},
   "outputs": [],
   "source": [
    "%%run_python\n",
    "nf_sound_system(0)"
   ]
  },
  {
   "cell_type": "markdown",
   "id": "a6b623ab-6c69-4173-92ab-88bdde4c9910",
   "metadata": {},
   "source": [
    "Set the brightness of the button leds:"
   ]
  },
  {
   "cell_type": "code",
   "execution_count": null,
   "id": "4d1bb281-c0c5-4be5-8efb-977237e9fe19",
   "metadata": {},
   "outputs": [],
   "source": [
    "%%run_python\n",
    "nf_leds_buttons(32,8,2,0)"
   ]
  },
  {
   "cell_type": "markdown",
   "id": "026349ba-a767-4f0f-b63c-583999aeca13",
   "metadata": {},
   "source": [
    "Set the brightness of the horizontal proximity sensors:"
   ]
  },
  {
   "cell_type": "code",
   "execution_count": null,
   "id": "e04a1bb8-d1dc-4c04-a239-8964e2e0935c",
   "metadata": {},
   "outputs": [],
   "source": [
    "%%run_python\n",
    "nf_leds_prox_h(32,0,0,0,32,0,0,0)"
   ]
  },
  {
   "cell_type": "markdown",
   "id": "32f2dc3e-d154-4cfd-900e-d3bee1a07aab",
   "metadata": {},
   "source": [
    "Set the brightness of the vertical proximity sensors:"
   ]
  },
  {
   "cell_type": "code",
   "execution_count": null,
   "id": "5cee06cd-4c1a-482d-88f9-4ac229cc4a51",
   "metadata": {},
   "outputs": [],
   "source": [
    "%%run_python\n",
    "nf_leds_prox_v(0,32)"
   ]
  },
  {
   "cell_type": "markdown",
   "id": "ccbf8a08-faa9-4982-977d-2a6564377429",
   "metadata": {},
   "source": [
    "Set the brightness of the rc led:"
   ]
  },
  {
   "cell_type": "code",
   "execution_count": null,
   "id": "200b0b80-405c-4004-b86f-eac8b6de7715",
   "metadata": {},
   "outputs": [],
   "source": [
    "%%run_python\n",
    "nf_leds_rc(32)"
   ]
  },
  {
   "cell_type": "markdown",
   "id": "c7e4d409-5735-4341-9fbf-1a9f3e92016b",
   "metadata": {},
   "source": [
    "Make it blink:"
   ]
  },
  {
   "cell_type": "code",
   "execution_count": null,
   "id": "8a4040f5-efa0-415a-b9e8-5fc1aff12ae6",
   "metadata": {},
   "outputs": [],
   "source": [
    "%%run_python\n",
    "\n",
    "timer_period[0] = 250\n",
    "on = False\n",
    "\n",
    "@onevent\n",
    "def timer0():\n",
    "    global on\n",
    "    on = not on\n",
    "    nf_leds_rc(32 if on else 0)"
   ]
  },
  {
   "cell_type": "markdown",
   "id": "06146252-1496-4d60-88c5-5d035291eed2",
   "metadata": {},
   "source": [
    "Set the brightness of the sound led:"
   ]
  },
  {
   "cell_type": "code",
   "execution_count": null,
   "id": "48c1e377-be41-4df5-a324-f86745522fce",
   "metadata": {},
   "outputs": [],
   "source": [
    "%%run_python\n",
    "nf_leds_sound(32)"
   ]
  },
  {
   "cell_type": "markdown",
   "id": "593d0b06-8481-4ded-a6bb-8be1289ddcb5",
   "metadata": {},
   "source": [
    "Set the red and blue brightness of the temperature led:"
   ]
  },
  {
   "cell_type": "code",
   "execution_count": null,
   "id": "9b997f07-07db-4e2a-8870-6ab30b23b14d",
   "metadata": {},
   "outputs": [],
   "source": [
    "%%run_python\n",
    "nf_leds_temperature(32, 5)"
   ]
  },
  {
   "cell_type": "markdown",
   "id": "3eb7faa3-012e-4f60-84ca-5b34809e6b9b",
   "metadata": {},
   "source": [
    "Set the frequency and duration of the sound generator:"
   ]
  },
  {
   "cell_type": "code",
   "execution_count": null,
   "id": "b5ab6fcf-2fd4-4586-ae3c-fd3916aaee4b",
   "metadata": {},
   "outputs": [],
   "source": [
    "%%run_python\n",
    "f = 600  # Hz\n",
    "d = 12  # s/60\n",
    "nf_sound_freq(f, d)"
   ]
  },
  {
   "cell_type": "markdown",
   "id": "884bd63a-16a7-4ecd-8a27-7865c84a8669",
   "metadata": {},
   "source": [
    "Enable or disable sending the value in variable `prox_comm_tx` with infrared emitter:"
   ]
  },
  {
   "cell_type": "code",
   "execution_count": null,
   "id": "4ecf984e-a677-48bd-a9b0-22c596236f74",
   "metadata": {},
   "outputs": [],
   "source": [
    "%%run_python\n",
    "prox_comm_tx = 123\n",
    "nf_prox_comm_enable(True)"
   ]
  },
  {
   "cell_type": "markdown",
   "id": "a66ce5dc-ebd0-4418-9ffe-59524f732937",
   "metadata": {},
   "source": [
    "Write and read data to file `U5.DAT` on the microSD card:"
   ]
  },
  {
   "cell_type": "code",
   "execution_count": null,
   "id": "d2df8c04-722a-43ce-ba62-718b6c993532",
   "metadata": {},
   "outputs": [],
   "source": [
    "%%run_python\n",
    "data = [1, 2, 3, 4, 5]\n",
    "data_read = [0, 0]\n",
    "status = nf_sd_open(5)  # Un.DAT, n=5\n",
    "if status == 0:\n",
    "    num_written = nf_sd_write(data)\n",
    "    # fill data_read with values from position 2\n",
    "    nf_sd_seek(2)\n",
    "    num_read = nf_sd_read(data_read)  # [3,4]"
   ]
  },
  {
   "cell_type": "markdown",
   "id": "6d31fbb3-19fc-4f9e-b123-4f8780161f82",
   "metadata": {},
   "source": [
    "### Deque library"
   ]
  },
  {
   "cell_type": "markdown",
   "id": "4e0feb7a-9118-4c1c-b97f-8ab24465c23b",
   "metadata": {},
   "source": [
    "The deque library implements functions for double-ended queues, i.e. queues where lists can be pushed to or popped from any end. The queue itself is stored in a list."
   ]
  },
  {
   "cell_type": "code",
   "execution_count": null,
   "id": "43c928c2-a919-49f7-9947-3021070ceb7d",
   "metadata": {},
   "outputs": [],
   "source": [
    "%%run_python\n",
    "queue = [0,0,0,0,0,0,0,0,0,0]\n",
    "x1 = [0]\n",
    "x2 = [0,0]\n",
    "deque_push_back(queue, [10])\n",
    "deque_push_back(queue, [21,22])\n",
    "deque_pop_front(queue, x1)  # [10]\n",
    "deque_pop_front(queue, x2)  # [21,22]\n",
    "deque_push_back(queue, [31,32,33])\n",
    "deque_pop_back(queue, x2)  # [32,33]\n",
    "n = deque_size(queue)  # 1"
   ]
  }
 ],
 "metadata": {
  "kernelspec": {
   "display_name": "Python 3",
   "language": "python",
   "name": "python3"
  },
  "language_info": {
   "codemirror_mode": {
    "name": "ipython",
    "version": 3
   },
   "file_extension": ".py",
   "mimetype": "text/x-python",
   "name": "python",
   "nbconvert_exporter": "python",
   "pygments_lexer": "ipython3",
   "version": "3.8.12"
  }
 },
 "nbformat": 4,
 "nbformat_minor": 5
}
