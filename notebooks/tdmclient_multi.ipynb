{
 "cells": [
  {
   "cell_type": "markdown",
   "id": "61ddb190",
   "metadata": {
    "tags": []
   },
   "source": [
    "# Synchronized tdmclient with multiple robots\n",
    "\n",
    "This notebook shows how to control multiple robots from a notebook.\n",
    "\n",
    "First, make sure that tdmclient is installed for Jupyter:"
   ]
  },
  {
   "cell_type": "code",
   "execution_count": null,
   "id": "efb269a7",
   "metadata": {
    "tags": []
   },
   "outputs": [],
   "source": [
    "%pip install --upgrade --quiet tdmclient"
   ]
  },
  {
   "cell_type": "markdown",
   "id": "b56261f3",
   "metadata": {},
   "source": [
    "Import the required class."
   ]
  },
  {
   "cell_type": "code",
   "execution_count": null,
   "id": "d98ee06c",
   "metadata": {},
   "outputs": [],
   "source": [
    "import tdmclient.notebook"
   ]
  },
  {
   "cell_type": "markdown",
   "id": "69ba4a7e-a616-4b6d-a16c-cbc74be624b5",
   "metadata": {},
   "source": [
    "List all the robots connected to the TDM:"
   ]
  },
  {
   "cell_type": "code",
   "execution_count": null,
   "id": "0e2ae11d-0bdf-479a-b494-1921b0dbb673",
   "metadata": {},
   "outputs": [],
   "source": [
    "await tdmclient.notebook.list()"
   ]
  },
  {
   "cell_type": "markdown",
   "id": "cf25ca2d",
   "metadata": {},
   "source": [
    "Connect to the TDM and start variable synchronization with the first robot. You could specify which robot to connect to by passing to `start()` either its id, with key argument such as `node_id=\"835a8098-afe2-475a-2aaf-18b567fa7ed7\"`, or its name, with key argument such as `node_name=\"Thymio-379\"`."
   ]
  },
  {
   "cell_type": "code",
   "execution_count": null,
   "id": "dfe6604c",
   "metadata": {
    "scrolled": true
   },
   "outputs": [],
   "source": [
    "await tdmclient.notebook.start()"
   ]
  },
  {
   "cell_type": "markdown",
   "id": "f23ef3e1-d9d1-493e-a17b-28ad3b5130f0",
   "metadata": {},
   "source": [
    "## Addressing robots\n",
    "\n",
    "Access to this robot's variables, running or stopping a program is done as if there was no other robot connected to the TDM. To refer to another robot, you have to specify it, with options in magic commands `%%run_python` or `%%run_aseba`, and with key arguments in functions `run()` or `stop()`. In all cases, you can do it with the node id, the node name, or the node index, a number which is 0 for the first robot (the default robot used by `tdmclient.notebook.start()`), 1 for the second robot and so on.\n",
    "\n",
    "| Robot specification | Magic command option | Function key argument |\n",
    "| --- | --- | --- |\n",
    "| id | `--robotid ...` | `robot_id=\"...\"` |\n",
    "| name | `--robotname ...` | `robot_name=\"...\"` |\n",
    "| index | `--robotindex ...` | `robot_index=\"...\"` |\n",
    "\n",
    "If the robot name contains spaces, enclose it between double-quotes also for the magic command option:\n",
    "\n",
    "```\n",
    "%%run_python --robotname \"my Thymio\"\n",
    "...\n",
    "```\n",
    "\n",
    "Since we want this notebook to work with your own robots whose name or id we don't know, we'll use the robot index. We'll also include it for the default robot (`robot_index=0`) to make clear it's one among a group of two robots.\n",
    "\n",
    "To illustrate running programs on specific robots, we change the color of the top led to blue on robot 0 and green on robot 1."
   ]
  },
  {
   "cell_type": "code",
   "execution_count": null,
   "id": "03e5d08f-d266-4bfc-aaf3-0b4e8e3ef1a3",
   "metadata": {},
   "outputs": [],
   "source": [
    "%%run_python --robotindex 0\n",
    "\n",
    "leds_top = [0, 0, 32]"
   ]
  },
  {
   "cell_type": "code",
   "execution_count": null,
   "id": "e01d22a4-8043-4dec-b567-e0559b16c1a1",
   "metadata": {},
   "outputs": [],
   "source": [
    "%%run_python --robotindex 1\n",
    "\n",
    "leds_top = [0, 20, 0]"
   ]
  },
  {
   "cell_type": "markdown",
   "id": "e7ab6ed9-fa05-4072-96f1-6755ad42fec9",
   "metadata": {},
   "source": [
    "If you want to run the same program on multiple robots, you can do it with a single `%%run_python` or `%%run_aseba` cell by specifying the id, name or index of all the target robots separated with commas, without additional spaces. If the robot names contain spaces, enclose the whole list of names between double-quotes, keeping exactly the spaces in the names but without additional spaces around the commas."
   ]
  },
  {
   "cell_type": "code",
   "execution_count": null,
   "id": "51deaa44-5bec-46fd-becd-c7301dca5c7a",
   "metadata": {},
   "outputs": [],
   "source": [
    "%%run_aseba --robotindex 0,1\n",
    "\n",
    "leds.bottom.right = [32, 0, 32]  # purple\n",
    "leds.bottom.left = [32, 16, 0]   # orange"
   ]
  },
  {
   "cell_type": "markdown",
   "id": "631e6bf5-e885-4dbc-bf01-607bf9965a54",
   "metadata": {},
   "source": [
    "When the option `--wait` is specified, the cell execution proceeds until each program has called `exit()` (in Python), or the execution is interrupted. The output of `print()` functions, and `exit(status)` functions with a non-zero status, is prefixed with the index of the robot among those the program run on."
   ]
  },
  {
   "cell_type": "code",
   "execution_count": null,
   "id": "e23de16a-5d58-465c-bc6e-cb9da37e2fc9",
   "metadata": {},
   "outputs": [],
   "source": [
    "%%run_python --robotindex 0,1 --wait\n",
    "\n",
    "timer_period[0] = 250\n",
    "i = 0\n",
    "\n",
    "@onevent\n",
    "def timer0():\n",
    "    global i\n",
    "    i += 1\n",
    "    if i > 3:\n",
    "        exit(1)\n",
    "    print(i)"
   ]
  },
  {
   "cell_type": "markdown",
   "id": "4623ac6d-f39b-4128-9ba7-8c651a54985b",
   "metadata": {},
   "source": [
    "## Events between robots and Jupyter\n",
    "\n",
    "Function `get_event_data()` retrieves the events sent by a robot. It can take a key argument `robot_id`, `robot_name` or `robot_index` to specify which robot is concerned.\n",
    "\n",
    "To illustrate this, here is a program which emits an event `\"b\"` with data suitable for `leds_circle`. It accepts an event `\"c\"` to set `leds_circle`. We run it on both robots (`--robotindex 0,1`)."
   ]
  },
  {
   "cell_type": "code",
   "execution_count": null,
   "id": "8947e987-d31b-462d-97ad-debbb6c801c1",
   "metadata": {},
   "outputs": [],
   "source": [
    "%%run_python --robotindex 0,1 --clear-event-data\n",
    "\n",
    "@onevent\n",
    "def button_center():\n",
    "    emit(\"b\", 0, 0, 0, 0, 0, 0, 0, 0)\n",
    "@onevent\n",
    "def button_forward():\n",
    "    emit(\"b\", 32, 32, 0, 0, 0, 0, 0, 32)\n",
    "@onevent\n",
    "def button_right():\n",
    "    emit(\"b\", 0, 32, 32, 32, 0, 0, 0, 0)\n",
    "@onevent\n",
    "def button_backward():\n",
    "    emit(\"b\", 0, 0, 0, 32, 32, 32, 0, 0)\n",
    "@onevent\n",
    "def button_left():\n",
    "    emit(\"b\", 0, 0, 0, 0, 0, 32, 32, 32)\n",
    "\n",
    "@onevent\n",
    "def c(l0, l1, l2, l3, l4, l5, l6, l7):\n",
    "    global leds_circle\n",
    "    leds_circle = [l0, l1, l2, l3, l4, l5, l6, l7]"
   ]
  },
  {
   "cell_type": "markdown",
   "id": "8a0157a6-59f4-4f7d-8297-7b7ec2ab693e",
   "metadata": {},
   "source": [
    "We make the robot communicate by forwarding the messages in Jupyter. When Jupyter receives events, the robot sender is identified by a node object. In order to deduce which is the receiver robot, we first get the list of all nodes."
   ]
  },
  {
   "cell_type": "code",
   "execution_count": null,
   "id": "66d68add-7131-4978-a5fc-4cc5161b13f2",
   "metadata": {},
   "outputs": [],
   "source": [
    "nodes = await tdmclient.notebook.get_nodes()"
   ]
  },
  {
   "cell_type": "code",
   "execution_count": null,
   "id": "eb1b08f3-a9b0-4f11-8e06-d7cce9cbbb82",
   "metadata": {},
   "outputs": [],
   "source": [
    "print(nodes)"
   ]
  },
  {
   "cell_type": "markdown",
   "id": "1084f50b-5e5d-4f63-912a-2522bec050cf",
   "metadata": {},
   "source": [
    "If the sender is `node` then its index is `nodes.index(node)` and the index of the receiver (the other among the first two robots) is `1-nodes.index(node)`.\n",
    "\n",
    "Here is a program to forward the events. Touch the buttons on one robot to switch corresponding leds on the other one. The loop runs until you interrupt it with the Interrupt button (little black square)."
   ]
  },
  {
   "cell_type": "code",
   "execution_count": null,
   "id": "949d8174-af1d-4447-93bd-c2962fa11ee2",
   "metadata": {},
   "outputs": [],
   "source": [
    "def on_event_data(node, event_name):\n",
    "    src_index = nodes.index(node)\n",
    "    dest_index = 1 - src_index\n",
    "    event_data_list = get_event_data(\"b\", robot_index=src_index)\n",
    "    for data in event_data_list:\n",
    "        send_event(\"c\", *data, robot_index=dest_index)\n",
    "    clear_event_data(\"b\", robot_index=src_index)\n",
    "        \n",
    "tdmclient.notebook.process_events(all_nodes=True, on_event_data=on_event_data)"
   ]
  },
  {
   "cell_type": "markdown",
   "id": "3bdc441f-3a76-4a49-b99a-87a2d44bcf51",
   "metadata": {},
   "source": [
    "## Infrared communication between robots\n",
    "\n",
    "Simple messages made of a single number can be sent between robots via the same infrared leds and sensors as those used as active proximity sensors. The program below reproduces the same behavior as the robot and computer programs above, where touching a button switches on the corresponding yellow leds of the other robot. Once the robot programs are launched, the computer isn't involved anymore."
   ]
  },
  {
   "cell_type": "code",
   "execution_count": null,
   "id": "57031ddd-8698-4754-94d8-208a22170f3d",
   "metadata": {},
   "outputs": [],
   "source": [
    "%%run_python --robotindex 0,1\n",
    "\n",
    "nf_prox_comm_enable(True)\n",
    "\n",
    "def send_msg(code):\n",
    "    global prox_comm_tx\n",
    "    prox_comm_tx = code\n",
    "\n",
    "@onevent\n",
    "def button_center():\n",
    "    send_msg(99)\n",
    "@onevent\n",
    "def button_forward():\n",
    "    send_msg(1)\n",
    "@onevent\n",
    "def button_right():\n",
    "    send_msg(2)\n",
    "@onevent\n",
    "def button_backward():\n",
    "    send_msg(3)\n",
    "@onevent\n",
    "def button_left():\n",
    "    send_msg(4)\n",
    "\n",
    "@onevent\n",
    "def prox_comm():\n",
    "    global prox_comm_rx, leds_circle\n",
    "    msg = prox_comm_rx\n",
    "    if msg == 99:\n",
    "        leds_circle = [0, 0, 0, 0, 0, 0, 0, 0]\n",
    "    elif msg == 1:\n",
    "        leds_circle = [32, 32, 0, 0, 0, 0, 0, 32]\n",
    "    elif msg == 2:\n",
    "        leds_circle = [0, 32, 32, 32, 0, 0, 0, 0]\n",
    "    elif msg == 3:\n",
    "        leds_circle = [0, 0, 0, 32, 32, 32, 0, 0]\n",
    "    elif msg == 4:\n",
    "        leds_circle = [0, 0, 0, 0, 0, 32, 32, 32]"
   ]
  }
 ],
 "metadata": {
  "kernelspec": {
   "display_name": "Python 3",
   "language": "python",
   "name": "python3"
  },
  "language_info": {
   "codemirror_mode": {
    "name": "ipython",
    "version": 3
   },
   "file_extension": ".py",
   "mimetype": "text/x-python",
   "name": "python",
   "nbconvert_exporter": "python",
   "pygments_lexer": "ipython3",
   "version": "3.8.12"
  }
 },
 "nbformat": 4,
 "nbformat_minor": 5
}
