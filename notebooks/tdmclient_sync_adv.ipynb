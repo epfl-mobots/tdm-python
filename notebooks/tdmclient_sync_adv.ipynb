{
 "cells": [
  {
   "cell_type": "markdown",
   "id": "61ddb190",
   "metadata": {},
   "source": [
    "# Synchronized tdmclient interactive session\n",
    "## Advanced features\n",
    "\n",
    "This notebook illustrates advanced use of `tdmclient.notebook`, such as explicit variable fetching or sending, the selection of a robot when multiple robots are available, disconnection and reconnection, and direct access to the objects of `tdmclient`."
   ]
  },
  {
   "cell_type": "markdown",
   "id": "36dda064-2184-403c-a493-87b992d93621",
   "metadata": {},
   "source": [
    "As usual, make sure the latest version of tdmclient is installed (you can skip this step if you did it recently):"
   ]
  },
  {
   "cell_type": "code",
   "execution_count": null,
   "id": "efb269a7",
   "metadata": {},
   "outputs": [],
   "source": [
    "%pip install --upgrade --quiet tdmclient"
   ]
  },
  {
   "cell_type": "markdown",
   "id": "406ec076-7c4d-4926-89cf-73872985b782",
   "metadata": {},
   "source": [
    "### Connection and disconnection"
   ]
  },
  {
   "cell_type": "markdown",
   "id": "b56261f3",
   "metadata": {},
   "source": [
    "Import the required class."
   ]
  },
  {
   "cell_type": "code",
   "execution_count": null,
   "id": "d98ee06c",
   "metadata": {},
   "outputs": [],
   "source": [
    "import tdmclient.notebook"
   ]
  },
  {
   "cell_type": "markdown",
   "id": "daa9ecf3-f3af-424e-88a0-258d0724a63b",
   "metadata": {},
   "source": [
    "Usually at this stage, we would connect to the first robot, assuming there is just one. It's also possible to display the list of robots:"
   ]
  },
  {
   "cell_type": "code",
   "execution_count": null,
   "id": "4b8d208b-1e02-4795-a491-4b746f9bd31d",
   "metadata": {},
   "outputs": [],
   "source": [
    "await tdmclient.notebook.list()"
   ]
  },
  {
   "cell_type": "markdown",
   "id": "cf25ca2d",
   "metadata": {},
   "source": [
    "When you start the notebook session, you can add options to `tdmclient.notebook.start` to specify which robot to use. Robots can be identified by their id, which is unique hence unambiguous but difficult to type and remember, or by their name which you can define yourself.\n",
    "\n",
    "Since we don't know the id or name of your robot, we'll cheat by picking the actual id and name of the first robot. To get the list of robots (or nodes), instead of `tdmclient.notebook.list` as above where the result is displayed in a nice list of properties, we call `tdmclient.notebook.get_nodes` which returns a list."
   ]
  },
  {
   "cell_type": "code",
   "execution_count": null,
   "id": "f424e9bc-1547-4448-bb9b-9bdd2cc70b90",
   "metadata": {},
   "outputs": [],
   "source": [
    "nodes = await tdmclient.notebook.get_nodes()\n",
    "id_first_node = nodes[0].id_str\n",
    "name_first_node = nodes[0].props[\"name\"]\n",
    "print(f\"id: {id_first_node}\")\n",
    "print(f\"name: {name_first_node}\")"
   ]
  },
  {
   "cell_type": "markdown",
   "id": "db3e7785-cb28-49cc-896f-4fb0f903605f",
   "metadata": {},
   "source": [
    "Then you can specify the robot id:"
   ]
  },
  {
   "cell_type": "code",
   "execution_count": null,
   "id": "dfe6604c",
   "metadata": {
    "scrolled": true
   },
   "outputs": [],
   "source": [
    "await tdmclient.notebook.start(node_id=id_first_node)"
   ]
  },
  {
   "cell_type": "markdown",
   "id": "05ca5998-7092-48e7-8b57-d023f3d8590b",
   "metadata": {},
   "source": [
    "We want to show you how to use the robot's name instead of its id, but first we must close the connection:"
   ]
  },
  {
   "cell_type": "code",
   "execution_count": null,
   "id": "6c3b260f-881d-4ad0-b359-a9a222d7dabf",
   "metadata": {},
   "outputs": [],
   "source": [
    "await tdmclient.notebook.stop()"
   ]
  },
  {
   "cell_type": "markdown",
   "id": "6bddb246-1ec6-453e-b608-0946a1e57173",
   "metadata": {},
   "source": [
    "Now the robot is available again."
   ]
  },
  {
   "cell_type": "code",
   "execution_count": null,
   "id": "076a4d79-7c17-4763-813b-13fad61e14be",
   "metadata": {},
   "outputs": [],
   "source": [
    "await tdmclient.notebook.start(node_name=name_first_node)"
   ]
  },
  {
   "cell_type": "markdown",
   "id": "d8fb091a-2c3f-4652-a96c-16bb0f2635de",
   "metadata": {},
   "source": [
    "### Variable exchange\n",
    "\n",
    "The synchronization of Python variables which have the same name as the robot's variables is performed automatically only when they're accessed directly in cells. This isn't automatically the case for functions, to let you decide when it's efficient to receive or send values to the robot. There are two ways to do it:\n",
    "- Function `get_var(\"var1\", \"var2\", ...)` retrieves the value of variables `var1`, `var2` etc. and returns them in a tuple in the same order. The typical use is to unpack the tuple directly into variables in an assignment: `var1,var2,...=get_var(\"var1\",\"var2\",...)`; beware to have a trailing comma if you retrieve only one variable, else you'll get a plain assignment of the tuple itself.<br>Function `set_var(var1=value1,var2=value2,...)` sends new values to the robot.<br>Here is an example which sets the color of the robot to red or blue depending on its temperature:"
   ]
  },
  {
   "cell_type": "code",
   "execution_count": null,
   "id": "d85e8658-ce4a-4b04-86c5-8e87dba91cd3",
   "metadata": {},
   "outputs": [],
   "source": [
    "def f(temp_limit=30):\n",
    "    temperature, = get_var(\"temperature\")\n",
    "    if temperature > temp_limit * 10:\n",
    "        set_var(leds_top=[32, 0, 0])\n",
    "    else:\n",
    "        set_var(leds_top=[0, 10, 32])\n",
    "\n",
    "f(28)"
   ]
  },
  {
   "cell_type": "markdown",
   "id": "68c27b80-13a2-4c81-86ef-7b8ea445358d",
   "metadata": {},
   "source": [
    "- To synchronized global variables whose names match the robot's, the function can be decorated with `@tdmclient.notebook.sync_var`. The effect of the decorator is to extend the function so that these variables are fetched at the beginning and sent back to the robot before the function returns. Here is the same example:"
   ]
  },
  {
   "cell_type": "code",
   "execution_count": null,
   "id": "77affa5c-f1c4-4ab3-9eb8-a59b3e8f7797",
   "metadata": {},
   "outputs": [],
   "source": [
    "@tdmclient.notebook.sync_var\n",
    "def f(temp_limit=30):\n",
    "    global temperature, leds_top\n",
    "    if temperature > temp_limit * 10:\n",
    "        leds_top = [32, 0, 0]\n",
    "    else:\n",
    "        leds_top = [0, 10, 32]\n",
    "\n",
    "f(28)"
   ]
  },
  {
   "cell_type": "markdown",
   "id": "b3cc236c-aa09-4c5a-b712-678568670b64",
   "metadata": {},
   "source": [
    "### Direct use of node objects\n",
    "\n",
    "Once connected, the node object used to communicate with the robot can be obtained with `get_node()`:"
   ]
  },
  {
   "cell_type": "code",
   "execution_count": null,
   "id": "38d58cc9-c9cb-4d3d-8e8a-fead5997f93c",
   "metadata": {},
   "outputs": [],
   "source": [
    "robot = tdmclient.notebook.get_node()"
   ]
  },
  {
   "cell_type": "markdown",
   "id": "b76df253-00de-4517-9dde-7e5f42b9b439",
   "metadata": {},
   "source": [
    "Then all the methods and properties defined for `ClientAsyncCacheNode` objects can be used. For example, you can get the list of its variables:"
   ]
  },
  {
   "cell_type": "code",
   "execution_count": null,
   "id": "83607c5d-99c1-4302-a126-6c5bfc2e5e5d",
   "metadata": {},
   "outputs": [],
   "source": [
    "robot_variables = list(await robot.var_description())\n",
    "robot_variables"
   ]
  },
  {
   "cell_type": "markdown",
   "id": "5178bd35-ebc0-4e69-80a0-2bd236fa0437",
   "metadata": {},
   "source": [
    "Or set the content of the scratchpad, used by the tdm to share the source code amoung all the clients. No need to use the actual source code, you can set it to any string. Check then in Aseba Studio."
   ]
  },
  {
   "cell_type": "code",
   "execution_count": null,
   "id": "2a508c0a-c896-46c4-ba66-0b38e8fffe9c",
   "metadata": {},
   "outputs": [],
   "source": [
    "await robot.set_scratchpad(\"Hello from a notebook, Studio!\")"
   ]
  },
  {
   "cell_type": "markdown",
   "id": "b7840791-b436-4f21-8c47-8a40784288c2",
   "metadata": {},
   "source": [
    "The client object is also available as a `ClientAsync` object:"
   ]
  },
  {
   "cell_type": "code",
   "execution_count": null,
   "id": "6b9b1930-ff3a-4dfe-9f0d-9836299c751c",
   "metadata": {},
   "outputs": [],
   "source": [
    "client = tdmclient.notebook.get_client()"
   ]
  },
  {
   "cell_type": "markdown",
   "id": "1b59afd0-f3c5-47c6-b70c-352884f4cbef",
   "metadata": {},
   "source": [
    "The client object doesn't have many intersting usages, because there are simpler alternatives with higher-level functions. Let's check whether the tdm is local:"
   ]
  },
  {
   "cell_type": "code",
   "execution_count": null,
   "id": "e3a6c894-4186-478c-862c-d36c8468d817",
   "metadata": {},
   "outputs": [],
   "source": [
    "client.localhost_peer"
   ]
  }
 ],
 "metadata": {
  "kernelspec": {
   "display_name": "Python 3",
   "language": "python",
   "name": "python3"
  },
  "language_info": {
   "codemirror_mode": {
    "name": "ipython",
    "version": 3
   },
   "file_extension": ".py",
   "mimetype": "text/x-python",
   "name": "python",
   "nbconvert_exporter": "python",
   "pygments_lexer": "ipython3",
   "version": "3.8.12"
  }
 },
 "nbformat": 4,
 "nbformat_minor": 5
}
