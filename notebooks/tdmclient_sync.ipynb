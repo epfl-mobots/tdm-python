{
 "cells": [
  {
   "cell_type": "markdown",
   "id": "61ddb190",
   "metadata": {},
   "source": [
    "# Synchronized tdmclient interactive session\n",
    "\n",
    "This notebook borrows largely from the repl help file of tdmclient.\n",
    "\n",
    "First, make sure that tdmclient is installed for Jupyter:"
   ]
  },
  {
   "cell_type": "code",
   "execution_count": null,
   "id": "efb269a7",
   "metadata": {},
   "outputs": [],
   "source": [
    "import sys\n",
    "!{sys.executable} -m pip install --force-reinstall /home/piguet/EPFL/Mobots/tdm-python/dist/tdmclient-0.1.2-py3-none-any.whl"
   ]
  },
  {
   "cell_type": "markdown",
   "id": "b56261f3",
   "metadata": {},
   "source": [
    "Import the required class."
   ]
  },
  {
   "cell_type": "code",
   "execution_count": null,
   "id": "d98ee06c",
   "metadata": {},
   "outputs": [],
   "source": [
    "import tdmclient.notebook"
   ]
  },
  {
   "cell_type": "code",
   "execution_count": null,
   "id": "dfe6604c",
   "metadata": {
    "scrolled": true
   },
   "outputs": [],
   "source": [
    "ic = await tdmclient.notebook.thymio_sync()"
   ]
  },
  {
   "cell_type": "code",
   "execution_count": null,
   "id": "453cf851",
   "metadata": {},
   "outputs": [],
   "source": [
    "leds_top"
   ]
  },
  {
   "cell_type": "code",
   "execution_count": null,
   "id": "79279828",
   "metadata": {
    "scrolled": true
   },
   "outputs": [],
   "source": [
    "leds_top = [0,32,32]"
   ]
  }
 ],
 "metadata": {
  "kernelspec": {
   "display_name": "Python 3",
   "language": "python",
   "name": "python3"
  },
  "language_info": {
   "codemirror_mode": {
    "name": "ipython",
    "version": 3
   },
   "file_extension": ".py",
   "mimetype": "text/x-python",
   "name": "python",
   "nbconvert_exporter": "python",
   "pygments_lexer": "ipython3",
   "version": "3.8.0"
  }
 },
 "nbformat": 4,
 "nbformat_minor": 5
}
