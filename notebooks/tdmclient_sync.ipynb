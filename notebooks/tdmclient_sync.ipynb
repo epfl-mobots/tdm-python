{
 "cells": [
  {
   "cell_type": "markdown",
   "id": "61ddb190",
   "metadata": {},
   "source": [
    "# Synchronized tdmclient interactive session\n",
    "\n",
    "This notebook borrows largely from the repl help file of tdmclient.\n",
    "\n",
    "First, make sure that tdmclient is installed for Jupyter:"
   ]
  },
  {
   "cell_type": "code",
   "execution_count": null,
   "id": "efb269a7",
   "metadata": {},
   "outputs": [],
   "source": [
    "%pip install --upgrade tdmclient"
   ]
  },
  {
   "cell_type": "markdown",
   "id": "b56261f3",
   "metadata": {},
   "source": [
    "Import the required class."
   ]
  },
  {
   "cell_type": "code",
   "execution_count": null,
   "id": "d98ee06c",
   "metadata": {},
   "outputs": [],
   "source": [
    "import tdmclient.notebook"
   ]
  },
  {
   "cell_type": "markdown",
   "id": "cf25ca2d",
   "metadata": {},
   "source": [
    "Connect to the TDM and start variable synchronization with the first robot:"
   ]
  },
  {
   "cell_type": "code",
   "execution_count": null,
   "id": "dfe6604c",
   "metadata": {
    "scrolled": true
   },
   "outputs": [],
   "source": [
    "await tdmclient.notebook.start()"
   ]
  },
  {
   "cell_type": "markdown",
   "id": "ea7a42cc",
   "metadata": {},
   "source": [
    "Read a Thymio variable:"
   ]
  },
  {
   "cell_type": "code",
   "execution_count": null,
   "id": "453cf851",
   "metadata": {},
   "outputs": [],
   "source": [
    "temp = temperature\n",
    "print(temp)"
   ]
  },
  {
   "cell_type": "markdown",
   "id": "6a54398d",
   "metadata": {},
   "source": [
    "Change a variable:"
   ]
  },
  {
   "cell_type": "code",
   "execution_count": null,
   "id": "79279828",
   "metadata": {
    "scrolled": true
   },
   "outputs": [],
   "source": [
    "leds_top = [0,32,32]"
   ]
  },
  {
   "cell_type": "markdown",
   "id": "bd3d3786",
   "metadata": {},
   "source": [
    "Write a program to be run on the Thymio:"
   ]
  },
  {
   "cell_type": "code",
   "execution_count": null,
   "id": "8acedbec",
   "metadata": {},
   "outputs": [],
   "source": [
    "on = False\n",
    "timer_period[0] = 500\n",
    "@onevent\n",
    "def timer0():\n",
    "    global on, leds_top\n",
    "    on = not on\n",
    "    if on:\n",
    "        leds_top = [32, 32, 0]\n",
    "    else:\n",
    "        leds_top = [0, 0, 0]"
   ]
  },
  {
   "cell_type": "markdown",
   "id": "fec269c9",
   "metadata": {},
   "source": [
    "Run it. Actually it is not just the previous cell which is compiled to something the Thymio can execute, but all the functions decorated with `@onevent`, the functions they call, the Thymio variables which have been set, and other global variables they use."
   ]
  },
  {
   "cell_type": "code",
   "execution_count": null,
   "id": "10b60f0e",
   "metadata": {},
   "outputs": [],
   "source": [
    "run()"
   ]
  },
  {
   "cell_type": "markdown",
   "id": "980608bc",
   "metadata": {},
   "source": [
    "Stop it:"
   ]
  },
  {
   "cell_type": "code",
   "execution_count": null,
   "id": "710456a4",
   "metadata": {},
   "outputs": [],
   "source": [
    "stop()"
   ]
  },
  {
   "cell_type": "markdown",
   "id": "8fa2db96-7ec4-40c8-b2fd-fbe37a38bff9",
   "metadata": {},
   "source": [
    "You can also run on the Thymio a Python program contained in a single cell:"
   ]
  },
  {
   "cell_type": "code",
   "execution_count": null,
   "id": "cc35e492",
   "metadata": {},
   "outputs": [],
   "source": [
    "%%run_python\n",
    "v = [32, 0, 32, 0, 32, 0, 32, 0]\n",
    "leds_circle = v"
   ]
  },
  {
   "cell_type": "markdown",
   "id": "4d3538c1",
   "metadata": {},
   "source": [
    "Or an Aseba program:"
   ]
  },
  {
   "cell_type": "code",
   "execution_count": null,
   "id": "ed2304cf",
   "metadata": {},
   "outputs": [],
   "source": [
    "%%run_aseba\n",
    "var v[] = [32, 32, 32, 0, 0, 0, 32, 32]\n",
    "leds.circle = v"
   ]
  },
  {
   "cell_type": "markdown",
   "id": "a3e8843b",
   "metadata": {},
   "source": [
    "The Python program is converted to Aseba (_transpiled_) before being compiled and executed on the Thymio. You can see the intermediate Aseba code:"
   ]
  },
  {
   "cell_type": "code",
   "execution_count": null,
   "id": "14e3b9cd",
   "metadata": {},
   "outputs": [],
   "source": [
    "%%transpile_to_aseba\n",
    "v = [32, 0, 32, 0, 32, 0, 32, 0]\n",
    "leds_circle = v"
   ]
  },
  {
   "cell_type": "markdown",
   "id": "4feccb15-71f1-4755-a0db-a169bfdc2ab6",
   "metadata": {},
   "source": [
    "It's also possible to use `print` statements in Python programs running on the Thymio. They're converted to events: the Thymio sends the numeric values, which can be any expressions, and the notebook on the computer receives them and combines them with constant string arguments of `print` and displays the result."
   ]
  },
  {
   "cell_type": "markdown",
   "id": "c9491186-1175-429e-b403-35d9ef1a9081",
   "metadata": {},
   "source": [
    "Instead of `%%run_python`, the program cell must begin with `%%run_python_wait` in order to run as long as required to process events. To stop it, click the Stop button of Jupyter (_interrupt the kernel_)."
   ]
  },
  {
   "cell_type": "code",
   "execution_count": null,
   "id": "fca536cc-6f4e-43c5-bef3-e732124cbc9b",
   "metadata": {},
   "outputs": [],
   "source": [
    "%%run_python_wait\n",
    "\n",
    "i = 0\n",
    "\n",
    "timer_period[0] = 1000\n",
    "\n",
    "@onevent\n",
    "def timer0():\n",
    "    global i, leds_top\n",
    "    i += 1\n",
    "    is_odd = i % 2 == 1\n",
    "    if is_odd:\n",
    "        print(i, \"odd\")\n",
    "        leds_top = [0, 32, 32]\n",
    "    else:\n",
    "        print(i, \"even\")\n",
    "        leds_top = [0, 0, 0]"
   ]
  }
 ],
 "metadata": {
  "kernelspec": {
   "display_name": "Python 3",
   "language": "python",
   "name": "python3"
  },
  "language_info": {
   "codemirror_mode": {
    "name": "ipython",
    "version": 3
   },
   "file_extension": ".py",
   "mimetype": "text/x-python",
   "name": "python",
   "nbconvert_exporter": "python",
   "pygments_lexer": "ipython3",
   "version": "3.8.0"
  }
 },
 "nbformat": 4,
 "nbformat_minor": 5
}
