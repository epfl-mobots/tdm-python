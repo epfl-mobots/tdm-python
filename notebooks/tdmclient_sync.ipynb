{
 "cells": [
  {
   "cell_type": "markdown",
   "id": "61ddb190",
   "metadata": {
    "tags": []
   },
   "source": [
    "# Synchronized tdmclient interactive session\n",
    "\n",
    "This notebook borrows largely from the repl help file of tdmclient.\n",
    "\n",
    "First, make sure that tdmclient is installed for Jupyter:"
   ]
  },
  {
   "cell_type": "code",
   "execution_count": null,
   "id": "efb269a7",
   "metadata": {
    "tags": []
   },
   "outputs": [],
   "source": [
    "%pip install --upgrade --quiet tdmclient"
   ]
  },
  {
   "cell_type": "markdown",
   "id": "b56261f3",
   "metadata": {},
   "source": [
    "Import the required class."
   ]
  },
  {
   "cell_type": "code",
   "execution_count": null,
   "id": "d98ee06c",
   "metadata": {},
   "outputs": [],
   "source": [
    "import tdmclient.notebook"
   ]
  },
  {
   "cell_type": "markdown",
   "id": "cf25ca2d",
   "metadata": {},
   "source": [
    "Connect to the TDM and start variable synchronization with the first robot:"
   ]
  },
  {
   "cell_type": "code",
   "execution_count": null,
   "id": "dfe6604c",
   "metadata": {
    "scrolled": true
   },
   "outputs": [],
   "source": [
    "await tdmclient.notebook.start()"
   ]
  },
  {
   "cell_type": "markdown",
   "id": "ea7a42cc",
   "metadata": {},
   "source": [
    "Read a Thymio variable:"
   ]
  },
  {
   "cell_type": "code",
   "execution_count": null,
   "id": "453cf851",
   "metadata": {},
   "outputs": [],
   "source": [
    "temp = temperature\n",
    "print(temp)"
   ]
  },
  {
   "cell_type": "markdown",
   "id": "6a54398d",
   "metadata": {},
   "source": [
    "Change a variable:"
   ]
  },
  {
   "cell_type": "code",
   "execution_count": null,
   "id": "79279828",
   "metadata": {
    "scrolled": true
   },
   "outputs": [],
   "source": [
    "leds_top = [0,32,32]"
   ]
  },
  {
   "cell_type": "markdown",
   "id": "bd3d3786",
   "metadata": {},
   "source": [
    "Write a program to be run on the Thymio:"
   ]
  },
  {
   "cell_type": "code",
   "execution_count": null,
   "id": "8acedbec",
   "metadata": {},
   "outputs": [],
   "source": [
    "on = False\n",
    "timer_period[0] = 500\n",
    "@onevent\n",
    "def timer0():\n",
    "    global on, leds_top\n",
    "    on = not on\n",
    "    if on:\n",
    "        leds_top = [32, 32, 0]\n",
    "    else:\n",
    "        leds_top = [0, 0, 0]"
   ]
  },
  {
   "cell_type": "markdown",
   "id": "fec269c9",
   "metadata": {},
   "source": [
    "Run it. Actually it is not just the previous cell which is compiled to something the Thymio can execute, but all the functions decorated with `@onevent`, the functions they call, the Thymio variables which have been set, and other global variables they use."
   ]
  },
  {
   "cell_type": "code",
   "execution_count": null,
   "id": "10b60f0e",
   "metadata": {},
   "outputs": [],
   "source": [
    "run()"
   ]
  },
  {
   "cell_type": "markdown",
   "id": "980608bc",
   "metadata": {},
   "source": [
    "Stop it:"
   ]
  },
  {
   "cell_type": "code",
   "execution_count": null,
   "id": "710456a4",
   "metadata": {},
   "outputs": [],
   "source": [
    "stop()"
   ]
  },
  {
   "cell_type": "markdown",
   "id": "8fa2db96-7ec4-40c8-b2fd-fbe37a38bff9",
   "metadata": {},
   "source": [
    "You can also run on the Thymio a Python program contained in a single cell:"
   ]
  },
  {
   "cell_type": "code",
   "execution_count": null,
   "id": "cc35e492",
   "metadata": {},
   "outputs": [],
   "source": [
    "%%run_python\n",
    "v = [32, 0, 32, 0, 32, 0, 32, 0]\n",
    "leds_circle = v"
   ]
  },
  {
   "cell_type": "markdown",
   "id": "4d3538c1",
   "metadata": {},
   "source": [
    "Or an Aseba program:"
   ]
  },
  {
   "cell_type": "code",
   "execution_count": null,
   "id": "ed2304cf",
   "metadata": {},
   "outputs": [],
   "source": [
    "%%run_aseba\n",
    "var v[] = [32, 32, 32, 0, 0, 0, 32, 32]\n",
    "leds.circle = v"
   ]
  },
  {
   "cell_type": "markdown",
   "id": "a3e8843b",
   "metadata": {},
   "source": [
    "The Python program is converted to Aseba (_transpiled_) before being compiled and executed on the Thymio. You can see the intermediate Aseba code:"
   ]
  },
  {
   "cell_type": "code",
   "execution_count": null,
   "id": "14e3b9cd",
   "metadata": {},
   "outputs": [],
   "source": [
    "%%transpile_to_aseba\n",
    "v = 4 * [32, 0]\n",
    "leds_circle = v"
   ]
  },
  {
   "cell_type": "markdown",
   "id": "4feccb15-71f1-4755-a0db-a169bfdc2ab6",
   "metadata": {},
   "source": [
    "It's also possible to use `print` statements in Python programs running on the Thymio. They're converted to events: the Thymio sends the numeric values, which can be the result of any expressions, and the notebook on the computer receives them and combines them with constant string arguments of `print` and displays the result."
   ]
  },
  {
   "cell_type": "markdown",
   "id": "c9491186-1175-429e-b403-35d9ef1a9081",
   "metadata": {},
   "source": [
    "Instead of just `%%run_python`, the program cell must begin with `%%run_python --wait` in order to run as long as required to process events. To stop it, either call `exit()` in the program, or click the Stop button of Jupyter (_interrupt the kernel_)."
   ]
  },
  {
   "cell_type": "code",
   "execution_count": null,
   "id": "fca536cc-6f4e-43c5-bef3-e732124cbc9b",
   "metadata": {},
   "outputs": [],
   "source": [
    "%%run_python --wait\n",
    "\n",
    "i = 0\n",
    "\n",
    "timer_period[0] = 500\n",
    "\n",
    "@onevent\n",
    "def timer0():\n",
    "    global i, leds_top\n",
    "    i += 1\n",
    "    is_odd = i % 2 == 1\n",
    "    if is_odd:\n",
    "        print(i, \"odd\")\n",
    "        leds_top = [0, 32, 32]\n",
    "    else:\n",
    "        print(i, \"even\")\n",
    "        leds_top = [0, 0, 0]\n",
    "    if i >= 10:\n",
    "        exit()"
   ]
  },
  {
   "cell_type": "markdown",
   "id": "b4ab6437-6338-4b53-9507-dddd56b5f7a2",
   "metadata": {},
   "source": [
    "By default, magic commands `%%run_python` and `%%transpile_to_aseba` define automatically all the variables, constants and functions specific to the Thymio. They work as if the code starts with `from thymio import *`. For more flexibility, you can suppress these definitions with the `--nothymio` option and load the `thymio` module exactly the way you want: as a whole, or only some symbols, or with aliases, or in the scope of a function definition."
   ]
  },
  {
   "cell_type": "code",
   "execution_count": null,
   "id": "733947eb-1a47-4890-ba73-679ef175f8b6",
   "metadata": {},
   "outputs": [],
   "source": [
    "%%transpile_to_aseba --nothymio\n",
    "import thymio\n",
    "thymio.leds_top = thymio.GREEN"
   ]
  },
  {
   "cell_type": "code",
   "execution_count": null,
   "id": "d7445ab3-7522-4ac2-b5cc-4173855357f8",
   "metadata": {},
   "outputs": [],
   "source": [
    "%%transpile_to_aseba --nothymio\n",
    "from thymio import leds_top as color_led, MAGENTA\n",
    "color_led = MAGENTA"
   ]
  },
  {
   "cell_type": "markdown",
   "id": "80b8073b-ce9c-4882-9e9f-18d48a9182c6",
   "metadata": {},
   "source": [
    "## Events between the notebook and the robot"
   ]
  },
  {
   "cell_type": "markdown",
   "id": "86b4007c-9a97-49e0-8df8-350e8486968e",
   "metadata": {},
   "source": [
    "To retrieve data from the robot and process them further in your notebook, you can send events with `emit`. In the program below, we collects 20 samples of the front proximity sensor, one every 200ms (5 per second), i.e. during 4 seconds."
   ]
  },
  {
   "cell_type": "code",
   "execution_count": null,
   "id": "287b4ebe-8add-4900-b4a7-6dfef6960fa0",
   "metadata": {},
   "outputs": [],
   "source": [
    "%%run_python --wait\n",
    "\n",
    "i = 0\n",
    "timer_period[0] = 200\n",
    "\n",
    "@onevent\n",
    "def timer0():\n",
    "    global i, prox_horizontal\n",
    "    i += 1\n",
    "    if i > 20:\n",
    "        exit()\n",
    "    emit(\"front\", prox_horizontal[2])"
   ]
  },
  {
   "cell_type": "markdown",
   "id": "feb3c041-78a3-4e9c-978b-374ab1dd74da",
   "metadata": {},
   "source": [
    "Events received by the computer are collected automatically. We retrieve them with `get_event_data(event_name)`, a list of all the data sent by `emit`, which are lists themselves. "
   ]
  },
  {
   "cell_type": "code",
   "execution_count": null,
   "id": "bdbdaf68-d06e-4fd2-bd11-ba7e3c070401",
   "metadata": {},
   "outputs": [],
   "source": [
    "data = get_event_data(\"front\")\n",
    "print(data)"
   ]
  },
  {
   "cell_type": "markdown",
   "id": "2853179b-5d7e-428b-ad8a-0ed075d9bc25",
   "metadata": {},
   "source": [
    "You can send events with different names. You can also reset an event collection by calling `clear_event_data(event_name)`, or without argument to clear all the events:"
   ]
  },
  {
   "cell_type": "code",
   "execution_count": null,
   "id": "8e9dedbd-310d-4cce-aaed-01c61a5cab46",
   "metadata": {},
   "outputs": [],
   "source": [
    "clear_event_data()"
   ]
  },
  {
   "cell_type": "markdown",
   "id": "a8f97c94-1cdb-46d5-8bc6-ebee29cd2067",
   "metadata": {},
   "source": [
    "Instead of calling `clear_event_data()` without argument, the option `--clear-event-data` of the magic command `%%run_python` has the same effect and avoids to evaluate a separate notebook cell."
   ]
  },
  {
   "cell_type": "markdown",
   "id": "f2a84e0c-4e49-49ce-aaad-95df5b10879a",
   "metadata": {},
   "source": [
    "You can also send events in the other direction, from the notebook to the robot. This can be useful for instance if you implement a low-level behavior on the robot, such as obstacle avoidance and sensor acquisition, and send at a lower rate high-level commands which require more computing power available only on the PC.\n",
    "\n",
    "The Thymio program below listens for events named `color` and changes the top RGB led color based on a single number. Bits 0, 1 and 2 represent the red, green, and blue components respectively."
   ]
  },
  {
   "cell_type": "code",
   "execution_count": null,
   "id": "654f7615-9aa2-4c14-a31d-abd107b35ce4",
   "metadata": {},
   "outputs": [],
   "source": [
    "%%run_python\n",
    "\n",
    "@onevent\n",
    "def color(c):\n",
    "    global leds_top\n",
    "    leds_top[0] = 32 if c & 1 else 0\n",
    "    leds_top[1] = 32 if c & 2 else 0\n",
    "    leds_top[2] = 32 if c & 4 else 0"
   ]
  },
  {
   "cell_type": "markdown",
   "id": "6ce81476-e775-49b1-ae58-35c15bf0f17b",
   "metadata": {},
   "source": [
    "Now that the program runs on the robot, we can send it `color` events. The number of values in `send_event` should match the `@onevent` declaration. They can be passed as numeric arguments or as arrays."
   ]
  },
  {
   "cell_type": "code",
   "execution_count": null,
   "id": "fa183afe-9f73-49ac-8c7e-33518f362fd2",
   "metadata": {},
   "outputs": [],
   "source": [
    "for col in range(8):\n",
    "    send_event(\"color\", col)\n",
    "    sleep(0.5)"
   ]
  },
  {
   "cell_type": "markdown",
   "id": "6a2a2384-5f81-4251-a0aa-4a55235967d6",
   "metadata": {},
   "source": [
    "### Module `clock`\n",
    "\n",
    "The module `clock` provides functions to get the current time since the start of the program or the last call to its function `reset()`. It can be used to measure the time between two events or to add time information to data sent from the robot to the PC with events.\n",
    "\n",
    "In the following program, the left button displays the time in seconds, the right button in 1/50 seconds, the backward button resets the clock, and the center button exits the program."
   ]
  },
  {
   "cell_type": "code",
   "execution_count": null,
   "id": "9c614dca-46a5-4a37-ba83-6449f846a378",
   "metadata": {},
   "outputs": [],
   "source": [
    "%%run_python --wait\n",
    "\n",
    "import clock\n",
    "\n",
    "@onevent\n",
    "def button_left():\n",
    "    print(\"clock.seconds()\", clock.seconds())\n",
    "\n",
    "@onevent\n",
    "def button_right():\n",
    "    print(\"clock.ticks_50Hz()\", clock.ticks_50Hz())\n",
    "\n",
    "@onevent\n",
    "def button_backward():\n",
    "    print(\"clock.reset()\")\n",
    "    clock.reset()\n",
    "\n",
    "@onevent\n",
    "def button_center():\n",
    "    exit()"
   ]
  },
  {
   "cell_type": "markdown",
   "id": "0a7569b4-c5f6-421f-9975-8b8ef9be72ef",
   "metadata": {},
   "source": [
    "The values are based on a counter incremented 50 times per second. Since it's stored in a signed 16-bit integer, like all Thymio variables, there is an overflow after 32767/50 seconds, or 5 minutes and 55 seconds. If your program runs longer, use the clock to measure smaller intervals and reset it for each new interval."
   ]
  }
 ],
 "metadata": {
  "kernelspec": {
   "display_name": "Python 3",
   "language": "python",
   "name": "python3"
  },
  "language_info": {
   "codemirror_mode": {
    "name": "ipython",
    "version": 3
   },
   "file_extension": ".py",
   "mimetype": "text/x-python",
   "name": "python",
   "nbconvert_exporter": "python",
   "pygments_lexer": "ipython3",
   "version": "3.8.12"
  }
 },
 "nbformat": 4,
 "nbformat_minor": 5
}
