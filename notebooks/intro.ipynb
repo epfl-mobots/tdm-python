{
 "cells": [
  {
   "cell_type": "markdown",
   "id": "61ddb190",
   "metadata": {
    "tags": []
   },
   "source": [
    "# Introduction to Python programs on the Thymio\n",
    "\n",
    "This notebook gives a very simple introduction to run Python programs on the Thymio. You can duplicate it to have a starting point for your own notebooks. Just keep the first 2 code cells as is, change the text (markdown cells) any way you want, and write your Python program in the last code cell.\n",
    "\n",
    "First, make sure that tdmclient is installed for Jupyter:"
   ]
  },
  {
   "cell_type": "code",
   "execution_count": null,
   "id": "efb269a7",
   "metadata": {
    "tags": []
   },
   "outputs": [],
   "source": [
    "%pip install --upgrade --quiet tdmclient"
   ]
  },
  {
   "cell_type": "markdown",
   "id": "b56261f3",
   "metadata": {},
   "source": [
    "Check that you've connected and switched on the robot and that Thymio Suite is running. Then import the required class and connect to the first robot:"
   ]
  },
  {
   "cell_type": "code",
   "execution_count": null,
   "id": "d98ee06c",
   "metadata": {},
   "outputs": [],
   "source": [
    "import tdmclient.notebook\n",
    "await tdmclient.notebook.start()"
   ]
  },
  {
   "cell_type": "markdown",
   "id": "cf25ca2d",
   "metadata": {},
   "source": [
    "Here is a complete Python program which will run on the Thymio. Keep the first line so that Jupyter knows to run the program on the Thymio instead of your computer. If you have `print()` statements, replace the first line with with `%%run_python --wait` and click the stop button (the little black square) to stop waiting for print or event data sent by the Thymio."
   ]
  },
  {
   "cell_type": "code",
   "execution_count": null,
   "id": "cc35e492",
   "metadata": {},
   "outputs": [],
   "source": [
    "%%run_python\n",
    "v = [32, 0, 32, 0, 32, 0, 32, 0]\n",
    "leds_circle = v"
   ]
  },
  {
   "cell_type": "markdown",
   "id": "de04d1c2-1b00-47bf-b0b1-4612d1396c50",
   "metadata": {},
   "source": [
    "The notebook has direct access to the Thymio variables. Another way to exchange data between the notebook and the robot is with events. See `tdmclient_sync.ipynb` for more details, `tdmclient_interact.ipynb` to learn how to manipulate variables interactively with sliders, and `tdmclient_sync_graphics.ipynb` for examples of plots of values coming from the robot. `tdmclient_lowlevel.ipynb` explains the use of lower-level ways to communicate with the robot, and `tdmclient_sync_adv.ipynb` how to mix both approaches; you probably don't want to start with them.\n",
    "\n",
    "Notebook functions accept optional keyword arguments. `tdmclient_sync_remote.ipynb` shows how to connect to a remote computer."
   ]
  }
 ],
 "metadata": {
  "kernelspec": {
   "display_name": "Python 3",
   "language": "python",
   "name": "python3"
  },
  "language_info": {
   "codemirror_mode": {
    "name": "ipython",
    "version": 3
   },
   "file_extension": ".py",
   "mimetype": "text/x-python",
   "name": "python",
   "nbconvert_exporter": "python",
   "pygments_lexer": "ipython3",
   "version": "3.8.12"
  }
 },
 "nbformat": 4,
 "nbformat_minor": 5
}
