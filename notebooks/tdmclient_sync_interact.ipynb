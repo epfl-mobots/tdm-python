{
 "cells": [
  {
   "cell_type": "markdown",
   "id": "61ddb190",
   "metadata": {
    "tags": []
   },
   "source": [
    "# Synchronized tdmclient interactive session\n",
    "## Interactive widgets\n",
    "\n",
    "This notebook illustrates the use of `tdmclient.notebook` with interactive widgets provided by the `ipywidgets` package."
   ]
  },
  {
   "cell_type": "markdown",
   "id": "36dda064-2184-403c-a493-87b992d93621",
   "metadata": {},
   "source": [
    "As usual, make sure the latest version of tdmclient is installed (you can skip this step if you did it recently):"
   ]
  },
  {
   "cell_type": "code",
   "execution_count": null,
   "id": "efb269a7",
   "metadata": {},
   "outputs": [],
   "source": [
    "%pip install --upgrade tdmclient"
   ]
  },
  {
   "cell_type": "markdown",
   "id": "b56261f3",
   "metadata": {},
   "source": [
    "Import the required classes and connect to the robot. In addition to `tdmclient.notebook`, `ipywidgets` provides support for interactive widgets, i.e. GUI elements which you can control with the mouse."
   ]
  },
  {
   "cell_type": "code",
   "execution_count": null,
   "id": "d98ee06c",
   "metadata": {},
   "outputs": [],
   "source": [
    "import tdmclient.notebook\n",
    "from ipywidgets import interact, interactive, fixed, interact_manual\n",
    "import ipywidgets as widgets\n",
    "await tdmclient.notebook.start()"
   ]
  },
  {
   "cell_type": "markdown",
   "id": "05ca5998-7092-48e7-8b57-d023f3d8590b",
   "metadata": {},
   "source": [
    "A function can be made interactive by adding a decorator `@interact` which specifies the range of values of each argument. When the cell is executed, sliders are displayed for each interactive argument. `(0,32,1)` means a range of integer values from 0 to 32 with a step of 1. Since the default value of the step is 1, we can just write `(0,32)`. The initial value of the arguments is given by their default value in the function definition.\n",
    "\n",
    "Thymio variables aren't synchronized automatically when they're located inside functions. By adding a decorator `@tdmclient.notebook.sync_var`, all Thymio variables referenced in the function are fetched from the robot before the function execution and sent back to the robot afterwards. Note the order of the decorators: `@tdmclient.notebook.sync_var` modifies the function to make its variables synchronized with the robot, and `@interact` makes this modified function interactive."
   ]
  },
  {
   "cell_type": "code",
   "execution_count": null,
   "id": "6c3b260f-881d-4ad0-b359-a9a222d7dabf",
   "metadata": {},
   "outputs": [],
   "source": [
    "@interact(red=(0,32), green=(0,32), blue=(0,32))\n",
    "@tdmclient.notebook.sync_var\n",
    "def rgb(red=0, green=0, blue=0):\n",
    "    global leds_top\n",
    "    leds_top = [red, green, blue]"
   ]
  },
  {
   "cell_type": "markdown",
   "id": "1f6c7928-8b71-4de0-afd1-722cb593e991",
   "metadata": {},
   "source": [
    "Here are alternative ways for the same result. Instead of a decorator in front of the function, you can call `interact` as a normal function, passing it the function whose arguments are manipulated interactively. Instead of decorating the function with `@tdmclient.notebook.sync_var`, you can call explicitly `set_var` to change the robot variables. And if your function is just a simple expression (a call to `set_var` or to another function if the values of its arguments don't fit directly the sliders of `interact`), you can replace it with a lambda expression."
   ]
  },
  {
   "cell_type": "code",
   "execution_count": null,
   "id": "849e1a3d-f0e2-4771-96cf-8917cd3b31db",
   "metadata": {},
   "outputs": [],
   "source": [
    "interact(lambda red=0,green=0,blue=0: set_var(leds_top=[red,green,blue]), red=(0,32), green=(0,32), blue=(0,32));"
   ]
  },
  {
   "cell_type": "markdown",
   "id": "b3034a23-bd9c-4201-9c3b-12a022366700",
   "metadata": {},
   "source": [
    "You can combine a program running on the robot and interactive controls in the notebook to change variables. Here is a program which uses its front proximity sensor to remain at some distance from an obstacle. Put your hand or a white box in front of the Thymio before you run the cell, or be ready to catch it before it falls off the table."
   ]
  },
  {
   "cell_type": "code",
   "execution_count": null,
   "id": "0d39c261-0653-4a5e-a0da-1d285e715b6f",
   "metadata": {},
   "outputs": [],
   "source": [
    "%%run_python\n",
    "\n",
    "prox0 = 1000\n",
    "gain_prc = 2\n",
    "timer_period[0] = 100\n",
    "\n",
    "@onevent\n",
    "def timer0():\n",
    "    global prox_horizontal, motor_left_target, motor_right_target, prox0, gain_prc\n",
    "    speed = math_muldiv(prox0 - prox_horizontal[2], gain_prc, 100)\n",
    "    motor_left_target = speed\n",
    "    motor_right_target = speed"
   ]
  },
  {
   "cell_type": "markdown",
   "id": "bdfb0f83-2010-4637-9548-76d9ea26e5f4",
   "metadata": {},
   "source": [
    "The global variables created by the program are also synchronized with those in the notebook:"
   ]
  },
  {
   "cell_type": "code",
   "execution_count": null,
   "id": "ea6cd6f7-8e18-4d00-ae4d-90e429e05ad8",
   "metadata": {},
   "outputs": [],
   "source": [
    "prox0"
   ]
  },
  {
   "cell_type": "code",
   "execution_count": null,
   "id": "d7fa5d4b-3381-4d0d-89d1-34bfea361208",
   "metadata": {},
   "outputs": [],
   "source": [
    "gain_prc = 5"
   ]
  },
  {
   "cell_type": "markdown",
   "id": "f74dfc32-bb51-498b-a396-fd9a3b5e2c0a",
   "metadata": {},
   "source": [
    "Changing the value of `prox0`, which is related to the distance the robot will maintain with respect to the obstacle, can be done with a slider as for `leds_top` above:"
   ]
  },
  {
   "cell_type": "code",
   "execution_count": null,
   "id": "cf2d8760-a497-4270-b57d-c0144f58aae8",
   "metadata": {},
   "outputs": [],
   "source": [
    "@interact(prox_target=(0, 4000, 10))\n",
    "@tdmclient.notebook.sync_var\n",
    "def change_prox0(prox_target):\n",
    "    global prox0\n",
    "    prox0 = prox_target"
   ]
  },
  {
   "cell_type": "markdown",
   "id": "b34a64dc-13e4-4838-ad1c-283a99e6a134",
   "metadata": {},
   "source": [
    "Change the value of the target value of the proximity sensor with the slider and observe how the robot moves backward or forward until it reaches a position where the expression `prox0 - prox_horizontal[2]` is 0, hence the speed is 0. Actually because it's unlikely the sensor reading remains perfectly constant, the robot will continue making small adjustments.\n",
    "\n",
    "When you've finished experimenting, stop the program:"
   ]
  },
  {
   "cell_type": "code",
   "execution_count": null,
   "id": "14a4033e-37eb-4e2f-8223-e9766bb12ffe",
   "metadata": {},
   "outputs": [],
   "source": [
    "stop()"
   ]
  }
 ],
 "metadata": {
  "kernelspec": {
   "display_name": "Python 3",
   "language": "python",
   "name": "python3"
  },
  "language_info": {
   "codemirror_mode": {
    "name": "ipython",
    "version": 3
   },
   "file_extension": ".py",
   "mimetype": "text/x-python",
   "name": "python",
   "nbconvert_exporter": "python",
   "pygments_lexer": "ipython3",
   "version": "3.8.12"
  }
 },
 "nbformat": 4,
 "nbformat_minor": 5
}
