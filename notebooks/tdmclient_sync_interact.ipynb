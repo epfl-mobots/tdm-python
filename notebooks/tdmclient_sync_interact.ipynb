{
 "cells": [
  {
   "cell_type": "markdown",
   "id": "61ddb190",
   "metadata": {
    "tags": []
   },
   "source": [
    "# Synchronized tdmclient interactive session\n",
    "## Interactive widgets\n",
    "\n",
    "This notebook illustrates the use of `tdmclient.notebook` with interactive widgets provided by the `ipywidgets` package."
   ]
  },
  {
   "cell_type": "markdown",
   "id": "36dda064-2184-403c-a493-87b992d93621",
   "metadata": {},
   "source": [
    "As usual, make sure the latest version of tdmclient is installed (you can skip this step if you did it recently):"
   ]
  },
  {
   "cell_type": "code",
   "execution_count": null,
   "id": "efb269a7",
   "metadata": {},
   "outputs": [],
   "source": [
    "%pip install --upgrade tdmclient"
   ]
  },
  {
   "cell_type": "markdown",
   "id": "b56261f3",
   "metadata": {},
   "source": [
    "Import the required classes and connect to the robot. In addition to `tdmclient.notebook`, `ipywidgets` provides support for interactive widgets, i.e. GUI elements which you can control with the mouse."
   ]
  },
  {
   "cell_type": "code",
   "execution_count": null,
   "id": "d98ee06c",
   "metadata": {},
   "outputs": [],
   "source": [
    "import tdmclient.notebook\n",
    "from ipywidgets import interact, interactive, fixed, interact_manual\n",
    "import ipywidgets as widgets\n",
    "await tdmclient.notebook.start()"
   ]
  },
  {
   "cell_type": "markdown",
   "id": "05ca5998-7092-48e7-8b57-d023f3d8590b",
   "metadata": {},
   "source": [
    "A function can be made interactive by adding a decorator `@interact` which specifies the range of values of each argument. When the cell is executed, sliders are displayed for each interactive argument. `(0,32,1)` means a range of integer values from 0 to 32 with a step of 1. Since the default value of the step is 1, we can just write `(0,32)`. The initial value of the arguments is given by their default value in the function definition.\n",
    "\n",
    "Thymio variables aren't synchronized automatically when they're located inside functions. By adding a decorator `@tdmclient.notebook.sync_var`, all Thymio variables referenced in the function are fetched from the robot before the function execution and sent back to the robot afterwards. Note the order of the decorators: `@tdmclient.notebook.sync_var` modifies the function to make its variables synchronized with the robot, and `@interact` makes this modified function interactive."
   ]
  },
  {
   "cell_type": "code",
   "execution_count": null,
   "id": "6c3b260f-881d-4ad0-b359-a9a222d7dabf",
   "metadata": {},
   "outputs": [],
   "source": [
    "@interact(red=(0,32), green=(0,32), blue=(0,32))\n",
    "@tdmclient.notebook.sync_var\n",
    "def rgb(red=0, green=0, blue=0):\n",
    "    global leds_top\n",
    "    leds_top = [red, green, blue]"
   ]
  },
  {
   "cell_type": "markdown",
   "id": "1f6c7928-8b71-4de0-afd1-722cb593e991",
   "metadata": {},
   "source": [
    "Here are alternative ways for the same result. Instead of a decorator in front of the function, you can call `interact` as a normal function, passing it the function whose arguments are manipulated interactively. Instead of decorating the function with `@tdmclient.notebook.sync_var`, you can call explicitly `set_var` to change the robot variables. And if your function is just a simple expression (a call to `set_var` or to another function if the values of its arguments don't fit directly the sliders of `interact`), you can replace it with a lambda expression."
   ]
  },
  {
   "cell_type": "code",
   "execution_count": null,
   "id": "849e1a3d-f0e2-4771-96cf-8917cd3b31db",
   "metadata": {},
   "outputs": [],
   "source": [
    "interact(lambda red=0,green=0,blue=0: set_var(leds_top=[red,green,blue]), red=(0,32), green=(0,32), blue=(0,32));"
   ]
  },
  {
   "cell_type": "markdown",
   "id": "b3034a23-bd9c-4201-9c3b-12a022366700",
   "metadata": {},
   "source": [
    "You can combine a program running on the robot and interactive controls in the notebook to change variables. Here is a program which uses its front proximity sensor to remain at some distance from an obstacle. Put your hand or a white box in front of the Thymio before you run the cell, or be ready to catch it before it falls off the table."
   ]
  },
  {
   "cell_type": "code",
   "execution_count": null,
   "id": "0d39c261-0653-4a5e-a0da-1d285e715b6f",
   "metadata": {},
   "outputs": [],
   "source": [
    "%%run_python\n",
    "\n",
    "prox0 = 1000\n",
    "gain_prc = 2\n",
    "timer_period[0] = 100\n",
    "\n",
    "@onevent\n",
    "def timer0():\n",
    "    global prox_horizontal, motor_left_target, motor_right_target, prox0, gain_prc\n",
    "    speed = math_muldiv(prox0 - prox_horizontal[2], gain_prc, 100)\n",
    "    motor_left_target = speed\n",
    "    motor_right_target = speed"
   ]
  },
  {
   "cell_type": "markdown",
   "id": "bdfb0f83-2010-4637-9548-76d9ea26e5f4",
   "metadata": {},
   "source": [
    "The global variables created by the program are also synchronized with those in the notebook:"
   ]
  },
  {
   "cell_type": "code",
   "execution_count": null,
   "id": "ea6cd6f7-8e18-4d00-ae4d-90e429e05ad8",
   "metadata": {},
   "outputs": [],
   "source": [
    "prox0"
   ]
  },
  {
   "cell_type": "code",
   "execution_count": null,
   "id": "d7fa5d4b-3381-4d0d-89d1-34bfea361208",
   "metadata": {},
   "outputs": [],
   "source": [
    "gain_prc = 5"
   ]
  },
  {
   "cell_type": "markdown",
   "id": "f74dfc32-bb51-498b-a396-fd9a3b5e2c0a",
   "metadata": {},
   "source": [
    "Changing the value of `prox0`, which is related to the distance the robot will maintain with respect to the obstacle, can be done with a slider as for `leds_top` above:"
   ]
  },
  {
   "cell_type": "code",
   "execution_count": null,
   "id": "cf2d8760-a497-4270-b57d-c0144f58aae8",
   "metadata": {},
   "outputs": [],
   "source": [
    "@interact(prox_target=(0, 4000, 10))\n",
    "@tdmclient.notebook.sync_var\n",
    "def change_prox0(prox_target):\n",
    "    global prox0\n",
    "    prox0 = prox_target"
   ]
  },
  {
   "cell_type": "markdown",
   "id": "b34a64dc-13e4-4838-ad1c-283a99e6a134",
   "metadata": {},
   "source": [
    "Change the value of the target value of the proximity sensor with the slider and observe how the robot moves backward or forward until it reaches a position where the expression `prox0 - prox_horizontal[2]` is 0, hence the speed is 0. Actually because it's unlikely the sensor reading remains perfectly constant, the robot will continue making small adjustments.\n",
    "\n",
    "When you've finished experimenting, stop the program:"
   ]
  },
  {
   "cell_type": "code",
   "execution_count": null,
   "id": "14a4033e-37eb-4e2f-8223-e9766bb12ffe",
   "metadata": {},
   "outputs": [],
   "source": [
    "stop()"
   ]
  },
  {
   "cell_type": "markdown",
   "id": "f1e3deed-ed0d-4fee-a22a-ea353c79837b",
   "metadata": {},
   "source": [
    "## Graphics\n",
    "\n",
    "The usual Python module for graphics is `matplotlib`. To plot a sensor value, or any computed value, as a function of time, you can retrieve the values with events."
   ]
  },
  {
   "cell_type": "code",
   "execution_count": null,
   "id": "a1bc45df-9a9e-4442-94d2-6524baa2b591",
   "metadata": {},
   "outputs": [],
   "source": [
    "import matplotlib.pyplot as plt"
   ]
  },
  {
   "cell_type": "markdown",
   "id": "306dbd37-b790-45d8-93bf-9c38616f6a15",
   "metadata": {},
   "source": [
    "We can begin with the example presented to illustrate the use of events:"
   ]
  },
  {
   "cell_type": "code",
   "execution_count": null,
   "id": "a62332a7-f9e5-4ee3-a3c3-5f7b1916d2a2",
   "metadata": {},
   "outputs": [],
   "source": [
    "%%run_python --clear-event-data --wait\n",
    "\n",
    "i = 0\n",
    "timer_period[0] = 200\n",
    "\n",
    "@onevent\n",
    "def timer0():\n",
    "    global i, prox_horizontal\n",
    "    i += 1\n",
    "    if i > 20:\n",
    "        exit()\n",
    "    emit(\"front\", prox_horizontal[2])"
   ]
  },
  {
   "cell_type": "markdown",
   "id": "01f34f05-c198-4f79-974e-0a4fa1196294",
   "metadata": {},
   "source": [
    "Then we retrieve and plot the event data:"
   ]
  },
  {
   "cell_type": "code",
   "execution_count": null,
   "id": "04c10945-8e27-41f7-ab92-986444e1d2ca",
   "metadata": {},
   "outputs": [],
   "source": [
    "%matplotlib inline\n",
    "prox_front = get_event_data(\"front\")\n",
    "plt.plot(prox_front);"
   ]
  },
  {
   "cell_type": "markdown",
   "id": "747029b9-5e22-45b4-af70-4d97f3040662",
   "metadata": {},
   "source": [
    "The horizontal scale shows the sample index, from 0 to 20 (the `_exit` event sent by the call to `exit()` is processed by the PC after the complete execution of `timer0()`; thus the program emits values for `i` from 1 to 21).\n",
    "\n",
    "You may prefer to use a time scale. If the events are produced in a timer event at a known rate, the time can be computed in the notebook. But often it's more convenient to get the actual time on the robot by reading its clock. For that, we use the `ticks_50Hz()` function defined in the `clock` module, which returns a value incremented 50 times per second. Instead of counting samples, we stop when the clock reaches 4 seconds. Both `clock.ticks_50Hz()` and `clock.seconds()` are reset to 0 when the program starts or when `clock.reset()` is called. Here is a new version of the robot program:"
   ]
  },
  {
   "cell_type": "code",
   "execution_count": null,
   "id": "a0e00fb0-03af-48d9-86f7-be79a5f034e7",
   "metadata": {},
   "outputs": [],
   "source": [
    "%%run_python --clear-event-data --wait\n",
    "\n",
    "import clock\n",
    "\n",
    "timer_period[0] = 200\n",
    "\n",
    "@onevent\n",
    "def timer0():\n",
    "    global prox_horizontal\n",
    "    if clock.seconds() >= 4:\n",
    "        exit()\n",
    "    emit(\"front\", clock.ticks_50Hz(), prox_horizontal[2])"
   ]
  },
  {
   "cell_type": "markdown",
   "id": "9126ea89-9047-4c6e-a86f-eedb416fe14c",
   "metadata": {},
   "source": [
    "The events produced by `emit()` contain 2 values, the number of ticks and the front proximity sensor. We can extract them into `t` and `y` with list comprehensions, a compact way to manipulate list values. The time is converted to seconds as fractional number, something which cannot be done on the Thymio where all numbers are integers."
   ]
  },
  {
   "cell_type": "code",
   "execution_count": null,
   "id": "33817c15-802b-40de-8643-6fc1ccf97435",
   "metadata": {},
   "outputs": [],
   "source": [
    "%matplotlib inline\n",
    "prox_front = get_event_data(\"front\")\n",
    "t = [data[0] / 50 for data in prox_front]\n",
    "y = [data[1] for data in prox_front]\n",
    "plt.plot(t, y);"
   ]
  },
  {
   "cell_type": "markdown",
   "id": "de5ad1ac-e24d-457e-90d6-c4d9968db78a",
   "metadata": {},
   "source": [
    "### Live graphics\n",
    "\n",
    "Support for animated graphics, where new data are displayed when there're available, depends on the version of Jupyter and the extensions which are installed. This section describes one way to update a figure in JupyterLab without any extension."
   ]
  },
  {
   "cell_type": "markdown",
   "id": "01d0d1f3-64f4-4ece-8fc3-e30d9a68aee4",
   "metadata": {},
   "source": [
    "We modify the program and plot above to run continuously with a sliding time window of 10 seconds. The call to `exit()` is removed from the robot program, and we don't wait for the program to terminate."
   ]
  },
  {
   "cell_type": "code",
   "execution_count": null,
   "id": "a047a309-3c59-44d9-bb03-ff68cb0e4b3d",
   "metadata": {},
   "outputs": [],
   "source": [
    "%%run_python --clear-event-data\n",
    "\n",
    "import clock\n",
    "\n",
    "timer_period[0] = 200\n",
    "\n",
    "@onevent\n",
    "def timer0():\n",
    "    global prox_horizontal\n",
    "    emit(\"front\", clock.ticks_50Hz(), prox_horizontal[2])"
   ]
  },
  {
   "cell_type": "markdown",
   "id": "2a91077f-718a-4805-ad42-a544d984375d",
   "metadata": {},
   "source": [
    "The figure below displays the last 10 seconds of data in a figure which is updated everytime new events are received. For each event received, the first data value is the time in 1/50 second, and the remaining values are displayed as separate lines. Thus you can keep the same code with different robot programs, as long as you emit events with a unique name and a fixed number of values.\n",
    "\n",
    "Click the stop button in the toolbar above to interrupt the kernel (the Python session which executes the notebook cells)."
   ]
  },
  {
   "cell_type": "code",
   "execution_count": null,
   "id": "d321a829-b058-4613-b856-153f89024168",
   "metadata": {},
   "outputs": [],
   "source": [
    "from IPython.display import clear_output\n",
    "from matplotlib import pyplot as plt\n",
    "%matplotlib inline\n",
    "\n",
    "def on_event_data(event_name):\n",
    "\n",
    "    def update_plot(t, y, time_span=10):\n",
    "        clear_output(wait=True)\n",
    "        plt.figure()\n",
    "\n",
    "        if len(t) > 1:\n",
    "            plt.plot(t, y)\n",
    "            t_last = t[-1]\n",
    "            plt.xlim(t_last - time_span, t_last)\n",
    "\n",
    "        plt.grid(True)\n",
    "        plt.show();\n",
    "\n",
    "    data_list = get_event_data(event_name)\n",
    "    t = [data[0] / 50 for data in data_list]\n",
    "    y = [data[1:] for data in data_list]\n",
    "\n",
    "    update_plot(t, y)\n",
    "\n",
    "clear_event_data()\n",
    "tdmclient.notebook.process_events(on_event_data)"
   ]
  }
 ],
 "metadata": {
  "kernelspec": {
   "display_name": "Python 3",
   "language": "python",
   "name": "python3"
  },
  "language_info": {
   "codemirror_mode": {
    "name": "ipython",
    "version": 3
   },
   "file_extension": ".py",
   "mimetype": "text/x-python",
   "name": "python",
   "nbconvert_exporter": "python",
   "pygments_lexer": "ipython3",
   "version": "3.8.0"
  }
 },
 "nbformat": 4,
 "nbformat_minor": 5
}
