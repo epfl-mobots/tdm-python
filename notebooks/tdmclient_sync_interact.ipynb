{
 "cells": [
  {
   "cell_type": "markdown",
   "id": "61ddb190",
   "metadata": {
    "tags": []
   },
   "source": [
    "# Synchronized tdmclient interactive session\n",
    "## Interactive widgets and graphics\n",
    "\n",
    "This notebook illustrates the use of `tdmclient.notebook` with interactive widgets provided by the `ipywidgets` package."
   ]
  },
  {
   "cell_type": "markdown",
   "id": "36dda064-2184-403c-a493-87b992d93621",
   "metadata": {},
   "source": [
    "As usual, make sure the latest version of tdmclient is installed (you can skip this step if you did it recently):"
   ]
  },
  {
   "cell_type": "code",
   "execution_count": null,
   "id": "efb269a7",
   "metadata": {},
   "outputs": [],
   "source": [
    "%pip install --upgrade tdmclient"
   ]
  },
  {
   "cell_type": "markdown",
   "id": "b56261f3",
   "metadata": {},
   "source": [
    "Import the required classes and connect to the robot. In addition to `tdmclient.notebook`, `ipywidgets` provides support for interactive widgets, i.e. GUI elements which you can control with the mouse."
   ]
  },
  {
   "cell_type": "code",
   "execution_count": null,
   "id": "d98ee06c",
   "metadata": {},
   "outputs": [],
   "source": [
    "import tdmclient.notebook\n",
    "from ipywidgets import interact, interactive, fixed, interact_manual\n",
    "import ipywidgets as widgets\n",
    "await tdmclient.notebook.start()"
   ]
  },
  {
   "cell_type": "markdown",
   "id": "05ca5998-7092-48e7-8b57-d023f3d8590b",
   "metadata": {},
   "source": [
    "Here is how a function can be made interactive by adding a decorator `@interact` which specifies the range of values of each argument. When the cell is executed, sliders are displayed for each interactive argument. `(0,32,1)` means a range of integer values from 0 to 32 with a step of 1. Since the default value of the step is 1, we can just write `(0,32)`. The initial value of the arguments is given by their default value in the function definition.\n",
    "\n",
    "Thymio variables aren't synchronized automatically when they're located inside functions. By adding a decorator `@tdmclient.notebook.sync_var`, all Thymio variables referenced in the function are fetched from the robot before the function execution and sent back to the robot afterwards. Note the order of the decorators: `@tdmclient.notebook.sync_var` modifies the function to make its variables synchronized with the robot, and `@interact` makes this modified function interactive."
   ]
  },
  {
   "cell_type": "code",
   "execution_count": null,
   "id": "6c3b260f-881d-4ad0-b359-a9a222d7dabf",
   "metadata": {},
   "outputs": [],
   "source": [
    "@interact(red=(0,32), green=(0,32), blue=(0,32))\n",
    "@tdmclient.notebook.sync_var\n",
    "def rgb(red=0, green=0, blue=0):\n",
    "    global leds_top\n",
    "    leds_top = [red, green, blue]"
   ]
  },
  {
   "cell_type": "markdown",
   "id": "1f6c7928-8b71-4de0-afd1-722cb593e991",
   "metadata": {},
   "source": [
    "Here are alternative ways for the same result. Instead of a decorator in front of the function, you can call `interact` as a normal function, passing it the function whose arguments are manipulated interactively. Instead of decorating the function with `@tdmclient.notebook.sync_var`, you can call explicitly `set_var` to change the robot variables. And if your function is just a simple expression (a call to `set_var` or to another function if the values of its arguments don't fit directly the sliders of `interact`), you can replace it with a lambda expression."
   ]
  },
  {
   "cell_type": "code",
   "execution_count": null,
   "id": "849e1a3d-f0e2-4771-96cf-8917cd3b31db",
   "metadata": {},
   "outputs": [],
   "source": [
    "interact(lambda red=0,green=0,blue=0: set_var(leds_top=[red,green,blue]), red=(0,32), green=(0,32), blue=(0,32));"
   ]
  }
 ],
 "metadata": {
  "kernelspec": {
   "display_name": "Python 3",
   "language": "python",
   "name": "python3"
  },
  "language_info": {
   "codemirror_mode": {
    "name": "ipython",
    "version": 3
   },
   "file_extension": ".py",
   "mimetype": "text/x-python",
   "name": "python",
   "nbconvert_exporter": "python",
   "pygments_lexer": "ipython3",
   "version": "3.8.0"
  }
 },
 "nbformat": 4,
 "nbformat_minor": 5
}
