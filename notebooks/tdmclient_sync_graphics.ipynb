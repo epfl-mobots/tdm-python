{
 "cells": [
  {
   "cell_type": "markdown",
   "id": "61ddb190",
   "metadata": {
    "tags": []
   },
   "source": [
    "# Synchronized tdmclient interactive session\n",
    "## Graphics\n",
    "\n",
    "This notebook illustrates the use of `tdmclient.notebook` with graphics provided by the `matplotlib` package."
   ]
  },
  {
   "cell_type": "markdown",
   "id": "36dda064-2184-403c-a493-87b992d93621",
   "metadata": {},
   "source": [
    "As usual, make sure the latest version of tdmclient is installed (you can skip this step if you did it recently):"
   ]
  },
  {
   "cell_type": "code",
   "execution_count": null,
   "id": "efb269a7",
   "metadata": {},
   "outputs": [],
   "source": [
    "%pip install --upgrade tdmclient"
   ]
  },
  {
   "cell_type": "markdown",
   "id": "b56261f3",
   "metadata": {},
   "source": [
    "Import the required classes and connect to the robot. In addition to `tdmclient.notebook`, `matplotlib` provides support for graphics."
   ]
  },
  {
   "cell_type": "code",
   "execution_count": null,
   "id": "d98ee06c",
   "metadata": {},
   "outputs": [],
   "source": [
    "import tdmclient.notebook\n",
    "import matplotlib.pyplot as plt\n",
    "await tdmclient.notebook.start()"
   ]
  },
  {
   "cell_type": "markdown",
   "id": "f1e3deed-ed0d-4fee-a22a-ea353c79837b",
   "metadata": {},
   "source": [
    "To plot a sensor value, or any computed value, as a function of time, you can retrieve the values with events.\n",
    "\n",
    "Let's begin with the example presented to illustrate the use of events. The program will run for 4 seconds. You can move your hand in front of robot."
   ]
  },
  {
   "cell_type": "code",
   "execution_count": null,
   "id": "a62332a7-f9e5-4ee3-a3c3-5f7b1916d2a2",
   "metadata": {},
   "outputs": [],
   "source": [
    "%%run_python --clear-event-data --wait\n",
    "\n",
    "i = 0\n",
    "timer_period[0] = 200\n",
    "\n",
    "@onevent\n",
    "def timer0():\n",
    "    global i, prox_horizontal\n",
    "    i += 1\n",
    "    if i > 20:\n",
    "        exit()\n",
    "    emit(\"front\", prox_horizontal[2])"
   ]
  },
  {
   "cell_type": "markdown",
   "id": "01f34f05-c198-4f79-974e-0a4fa1196294",
   "metadata": {},
   "source": [
    "Then we retrieve and plot the event data:"
   ]
  },
  {
   "cell_type": "code",
   "execution_count": null,
   "id": "04c10945-8e27-41f7-ab92-986444e1d2ca",
   "metadata": {},
   "outputs": [],
   "source": [
    "%matplotlib inline\n",
    "prox_front = get_event_data(\"front\")\n",
    "plt.plot(prox_front);"
   ]
  },
  {
   "cell_type": "markdown",
   "id": "747029b9-5e22-45b4-af70-4d97f3040662",
   "metadata": {},
   "source": [
    "The horizontal scale shows the sample index, from 0 to 20 (the `_exit` event sent by the call to `exit()` is processed by the PC after the complete execution of `timer0()`; thus the program emits values for `i` from 1 to 21).\n",
    "\n",
    "You may prefer to use a time scale. If the events are produced in a timer event at a known rate, the time can be computed in the notebook. But often it's more convenient to get the actual time on the robot by reading its clock. For that, we use the `ticks_50Hz()` function defined in the `clock` module, which returns a value incremented 50 times per second. Instead of counting samples, we stop when the clock reaches 4 seconds. Both `clock.ticks_50Hz()` and `clock.seconds()` are reset to 0 when the program starts or when `clock.reset()` is called. Here is a new version of the robot program:"
   ]
  },
  {
   "cell_type": "code",
   "execution_count": null,
   "id": "a0e00fb0-03af-48d9-86f7-be79a5f034e7",
   "metadata": {},
   "outputs": [],
   "source": [
    "%%run_python --clear-event-data --wait\n",
    "\n",
    "import clock\n",
    "\n",
    "timer_period[0] = 200\n",
    "\n",
    "@onevent\n",
    "def timer0():\n",
    "    global prox_horizontal\n",
    "    if clock.seconds() >= 4:\n",
    "        exit()\n",
    "    emit(\"front\", clock.ticks_50Hz(), prox_horizontal[2])"
   ]
  },
  {
   "cell_type": "markdown",
   "id": "9126ea89-9047-4c6e-a86f-eedb416fe14c",
   "metadata": {},
   "source": [
    "The events produced by `emit()` contain 2 values, the number of ticks and the front proximity sensor. We can extract them into `t` and `y` with list comprehensions, a compact way to manipulate list values. The time is converted to seconds as fractional number, something which cannot be done on the Thymio where all numbers are integers."
   ]
  },
  {
   "cell_type": "code",
   "execution_count": null,
   "id": "33817c15-802b-40de-8643-6fc1ccf97435",
   "metadata": {},
   "outputs": [],
   "source": [
    "%matplotlib inline\n",
    "prox_front = get_event_data(\"front\")\n",
    "t = [data[0] / 50 for data in prox_front]\n",
    "y = [data[1] for data in prox_front]\n",
    "plt.plot(t, y);"
   ]
  },
  {
   "cell_type": "markdown",
   "id": "de5ad1ac-e24d-457e-90d6-c4d9968db78a",
   "metadata": {},
   "source": [
    "### Live graphics\n",
    "\n",
    "Support for animated graphics, where new data are displayed when there're available, depends on the version of Jupyter and the extensions which are installed. This section describes one way to update a figure in JupyterLab without any extension."
   ]
  },
  {
   "cell_type": "markdown",
   "id": "01d0d1f3-64f4-4ece-8fc3-e30d9a68aee4",
   "metadata": {},
   "source": [
    "We modify the program and plot above to run continuously with a sliding time window of 10 seconds. The call to `exit()` is removed from the robot program, and we don't wait for the program to terminate."
   ]
  },
  {
   "cell_type": "code",
   "execution_count": null,
   "id": "a047a309-3c59-44d9-bb03-ff68cb0e4b3d",
   "metadata": {},
   "outputs": [],
   "source": [
    "%%run_python --clear-event-data\n",
    "\n",
    "import clock\n",
    "\n",
    "timer_period[0] = 200\n",
    "\n",
    "@onevent\n",
    "def timer0():\n",
    "    global prox_horizontal\n",
    "    emit(\"front\", clock.ticks_50Hz(), prox_horizontal[2])"
   ]
  },
  {
   "cell_type": "markdown",
   "id": "2a91077f-718a-4805-ad42-a544d984375d",
   "metadata": {},
   "source": [
    "The figure below displays the last 10 seconds of data in a figure which is updated everytime new events are received. For each event received, the first data value is the time in 1/50 second, and the remaining values are displayed as separate lines. Thus you can keep the same code with different robot programs, as long as you emit events with a unique name and a fixed number of values.\n",
    "\n",
    "Click the stop button in the toolbar above to interrupt the kernel (the Python session which executes the notebook cells)."
   ]
  },
  {
   "cell_type": "code",
   "execution_count": null,
   "id": "d321a829-b058-4613-b856-153f89024168",
   "metadata": {},
   "outputs": [],
   "source": [
    "from IPython.display import clear_output\n",
    "from matplotlib import pyplot as plt\n",
    "%matplotlib inline\n",
    "\n",
    "def on_event_data(event_name):\n",
    "\n",
    "    def update_plot(t, y, time_span=10):\n",
    "        clear_output(wait=True)\n",
    "        plt.figure()\n",
    "\n",
    "        if len(t) > 1:\n",
    "            plt.plot(t, y)\n",
    "            t_last = t[-1]\n",
    "            plt.xlim(t_last - time_span, t_last)\n",
    "\n",
    "        plt.grid(True)\n",
    "        plt.show();\n",
    "\n",
    "    data_list = get_event_data(event_name)\n",
    "    t = [data[0] / 50 for data in data_list]\n",
    "    y = [data[1:] for data in data_list]\n",
    "\n",
    "    update_plot(t, y)\n",
    "\n",
    "clear_event_data()\n",
    "tdmclient.notebook.process_events(on_event_data)"
   ]
  }
 ],
 "metadata": {
  "kernelspec": {
   "display_name": "Python 3",
   "language": "python",
   "name": "python3"
  },
  "language_info": {
   "codemirror_mode": {
    "name": "ipython",
    "version": 3
   },
   "file_extension": ".py",
   "mimetype": "text/x-python",
   "name": "python",
   "nbconvert_exporter": "python",
   "pygments_lexer": "ipython3",
   "version": "3.8.12"
  }
 },
 "nbformat": 4,
 "nbformat_minor": 5
}
