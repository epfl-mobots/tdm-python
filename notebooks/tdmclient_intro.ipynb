{
 "cells": [
  {
   "cell_type": "markdown",
   "id": "61ddb190",
   "metadata": {},
   "source": [
    "# Plain tdmclient interactive session\n",
    "\n",
    "Communicating with a [Thymio II](https://thymio.org) robot is mostly the same from a Jupyter notebook or from the plain Python repl. You must also connect a Thymio II to your computer and start [Thymio Suite](https://www.thymio.org/program/). The main differences are that you interrupt execution by clicking the stop button (the little square button next to Run, below the menu) instead of typing control-C; and that you can use directly the `await` keyword. And of course, you can add titles, text, links, graphics, etc.\n",
    "\n",
    "This notebook borrows largely from the help file of tdmclient.\n",
    "\n",
    "First, make sure that tdmclient is installed for Jupyter:"
   ]
  },
  {
   "cell_type": "code",
   "execution_count": null,
   "id": "efb269a7",
   "metadata": {},
   "outputs": [],
   "source": [
    "%pip install --upgrade tdmclient"
   ]
  },
  {
   "cell_type": "markdown",
   "id": "b56261f3",
   "metadata": {},
   "source": [
    "Import the required class."
   ]
  },
  {
   "cell_type": "code",
   "execution_count": null,
   "id": "ded0f49b",
   "metadata": {},
   "outputs": [],
   "source": [
    "from tdmclient import ClientAsync"
   ]
  },
  {
   "cell_type": "markdown",
   "id": "e014ea71",
   "metadata": {},
   "source": [
    "Create a client object:"
   ]
  },
  {
   "cell_type": "code",
   "execution_count": null,
   "id": "76b6a746",
   "metadata": {},
   "outputs": [],
   "source": [
    "client = ClientAsync()"
   ]
  },
  {
   "cell_type": "markdown",
   "id": "22223fd7",
   "metadata": {},
   "source": [
    "If the TDM runs on your local computer, its address and port number will be obtained from [zeroconf](https://en.wikipedia.org/wiki/Zero-configuration_networking). You can check their value:"
   ]
  },
  {
   "cell_type": "code",
   "execution_count": null,
   "id": "1a1bcb9e",
   "metadata": {},
   "outputs": [],
   "source": [
    "client.tdm_addr"
   ]
  },
  {
   "cell_type": "code",
   "execution_count": null,
   "id": "3828f08c",
   "metadata": {},
   "outputs": [],
   "source": [
    "client.tdm_port"
   ]
  },
  {
   "cell_type": "markdown",
   "id": "1438cef0",
   "metadata": {},
   "source": [
    "The client will connect to the TDM which sends messages to us, such as one to announce the existence of a robot. The easiest way to receive and process them is to call asynchronous functions in such a way that their result is waited for. This can be done in a coroutine, a special function which is executed at the same time as other tasks your program must perform, with the `await` Python keyword; or handled by the helper function `aw`. In this notebook, we'll use mainly `await`. In the normal Python repl, `await` cannot be used directly; `aw` should be used instead.\n",
    "\n",
    "Robots are associated to nodes. To get the first node once it's available (i.e. an object which refers to the first or only robot after having received and processed enough messages from the TDM to have this information), type"
   ]
  },
  {
   "cell_type": "code",
   "execution_count": null,
   "id": "cb831287",
   "metadata": {},
   "outputs": [],
   "source": [
    "node = await client.wait_for_node()"
   ]
  },
  {
   "cell_type": "markdown",
   "id": "38dadc4d",
   "metadata": {},
   "source": [
    "Lock the robot to change variables or run programs (make sure it isn't already used in Thymio Suite)."
   ]
  },
  {
   "cell_type": "code",
   "execution_count": null,
   "id": "c627b870",
   "metadata": {},
   "outputs": [],
   "source": [
    "await node.lock()"
   ]
  },
  {
   "cell_type": "markdown",
   "id": "a7f27d33",
   "metadata": {},
   "source": [
    "Compile and load an Aseba program:"
   ]
  },
  {
   "cell_type": "code",
   "execution_count": null,
   "id": "0d8cf741",
   "metadata": {},
   "outputs": [],
   "source": [
    "program = \"\"\"\n",
    "var on = 0  # 0=off, 1=on\n",
    "timer.period[0] = 500\n",
    "\n",
    "onevent timer0\n",
    "    on = 1 - on  # \"on = not on\" with a syntax Aseba accepts\n",
    "    leds.top = [32 * on, 32 * on, 0]\n",
    "\"\"\"\n",
    "r = await node.compile(program)"
   ]
  },
  {
   "cell_type": "markdown",
   "id": "a3489c9f",
   "metadata": {},
   "source": [
    "Run the program on the Thymio and observe its effect:"
   ]
  },
  {
   "cell_type": "code",
   "execution_count": null,
   "id": "bdbd572e",
   "metadata": {},
   "outputs": [],
   "source": [
    "await node.run()"
   ]
  },
  {
   "cell_type": "markdown",
   "id": "3b9eb944",
   "metadata": {},
   "source": [
    "Stop it:"
   ]
  },
  {
   "cell_type": "code",
   "execution_count": null,
   "id": "d05e41fa",
   "metadata": {},
   "outputs": [],
   "source": [
    "await node.stop()"
   ]
  },
  {
   "cell_type": "markdown",
   "id": "3af0cc22",
   "metadata": {},
   "source": [
    "Unlock the robot, so that it can be locked again by us in the next cell or by Thymio Suite:"
   ]
  },
  {
   "cell_type": "code",
   "execution_count": null,
   "id": "a1cf8c9d",
   "metadata": {},
   "outputs": [],
   "source": [
    "await node.unlock()"
   ]
  },
  {
   "cell_type": "markdown",
   "id": "784aa14a",
   "metadata": {},
   "source": [
    "## Programs in async functions\n",
    "\n",
    "Instead of calling asynchronous functions one by one, we can put a whole program in a single Python function, awaiting the result of each async function with the `await` keyword, and execute the function with `client.run_async_program`."
   ]
  },
  {
   "cell_type": "markdown",
   "id": "0b442fd6",
   "metadata": {},
   "source": [
    "Define your program in an async function `prog`. There are a few points to note:\n",
    "  - The node locking is done in a `with` construct, so that unlocking will be performed automatically at the end even if an error occurs. And `client.lock()` gives us directly the first node: no need to call `wait_for_node`.\n",
    "  - Getting and setting Thymio variables is done via attributes of `node.v` using the same dotted syntax as used in the official documentation of the Thymio.\n",
    "  - Thymio variable values are cached. When you read them, you get the last value which was received from the TDM. At the beginning, we await `node.wait_for_variables` to make sure the variable(s) we're interested has been received. When you set them, you must call `node.flush()` to send all your changes to the Thymio.\n",
    "  - All variables are integers; that's why we use the integer division operator `//` instead of the floating-point division operator `/`.\n",
    "  - No need to be too greedy, it's wise to slow down the loop by calling `client.sleep` with a sensible value. The meaning of _sensible_ depends on the speed of the connection. With the wireless dongle, it can be slow, especially with many robots in the same room."
   ]
  },
  {
   "cell_type": "code",
   "execution_count": null,
   "id": "5330d536",
   "metadata": {},
   "outputs": [],
   "source": [
    "async def prog():\n",
    "    with await client.lock() as node:\n",
    "        await node.wait_for_variables({\"prox.horizontal\"})\n",
    "        while True:\n",
    "            prox_front = node.v.prox.horizontal[2]\n",
    "            speed = -prox_front // 10\n",
    "            node.v.motor.left.target = speed\n",
    "            node.v.motor.right.target = speed\n",
    "            node.flush()\n",
    "            await client.sleep(0.1)"
   ]
  },
  {
   "cell_type": "markdown",
   "id": "5b033386",
   "metadata": {},
   "source": [
    "Run the program:"
   ]
  },
  {
   "cell_type": "code",
   "execution_count": null,
   "id": "cae6d803",
   "metadata": {},
   "outputs": [],
   "source": [
    "await prog()"
   ]
  },
  {
   "cell_type": "markdown",
   "id": "ace85d2e",
   "metadata": {},
   "source": [
    "To stop the program, click the Stop button of Jupyter (_interrupt the kernel_)."
   ]
  },
  {
   "cell_type": "markdown",
   "id": "6d65938c",
   "metadata": {},
   "source": [
    "We've used `with` to simplify the locking/unlocking of the node. We can also do it with the client object itself:"
   ]
  },
  {
   "cell_type": "code",
   "execution_count": null,
   "id": "78c992dd",
   "metadata": {},
   "outputs": [],
   "source": [
    "with ClientAsync() as client:\n",
    "    async def prog():\n",
    "        with await client.lock() as node:\n",
    "            await node.wait_for_variables({\"prox.horizontal\"})\n",
    "            while True:\n",
    "                prox_front = node.v.prox.horizontal[2]\n",
    "                speed = -prox_front // 10\n",
    "                node.v.motor.left.target = speed\n",
    "                node.v.motor.right.target = speed\n",
    "                node.flush()\n",
    "                await client.sleep(0.1)\n",
    "    await prog()"
   ]
  }
 ],
 "metadata": {
  "kernelspec": {
   "display_name": "Python 3",
   "language": "python",
   "name": "python3"
  },
  "language_info": {
   "codemirror_mode": {
    "name": "ipython",
    "version": 3
   },
   "file_extension": ".py",
   "mimetype": "text/x-python",
   "name": "python",
   "nbconvert_exporter": "python",
   "pygments_lexer": "ipython3",
   "version": "3.8.0"
  }
 },
 "nbformat": 4,
 "nbformat_minor": 5
}
