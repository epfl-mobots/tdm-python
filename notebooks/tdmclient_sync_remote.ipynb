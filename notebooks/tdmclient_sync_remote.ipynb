{
 "cells": [
  {
   "cell_type": "markdown",
   "id": "61ddb190",
   "metadata": {
    "tags": []
   },
   "source": [
    "# Synchronized tdmclient with remote robots\n",
    "\n",
    "This notebook shows how to control from a notebook a robot connected to a remote computer.\n",
    "\n",
    "First, make sure that tdmclient is installed for Jupyter:"
   ]
  },
  {
   "cell_type": "code",
   "execution_count": null,
   "id": "efb269a7",
   "metadata": {
    "tags": []
   },
   "outputs": [],
   "source": [
    "%pip install --upgrade --quiet tdmclient"
   ]
  },
  {
   "cell_type": "markdown",
   "id": "b56261f3",
   "metadata": {},
   "source": [
    "Import the required class."
   ]
  },
  {
   "cell_type": "code",
   "execution_count": null,
   "id": "d98ee06c",
   "metadata": {},
   "outputs": [],
   "source": [
    "import tdmclient.notebook"
   ]
  },
  {
   "cell_type": "markdown",
   "id": "69ba4a7e-a616-4b6d-a16c-cbc74be624b5",
   "metadata": {},
   "source": [
    "The site you want to connect to should be configured to allow remote connections. In Thymio Suite entry window, click the Tools menu icon near the top right corner, then select _Connect to a remote host_. Note down the IP address and the password; this information must be specified below.\n",
    "\n",
    "Make sure that Thymio Suite is reachable from the Internet. Maybe this means that you must open a port on your Internet router. Please evaluate the risks carefully. If you decide to proceed, do it only for the duration of the remote access and open as few ports as possible (only one TCP port for the connection between tdmclient and Thymio Suite).\n",
    "\n",
    "You can place all the access options in a dict (replace the TDM address and the password with those of your remote Thymio Suite):"
   ]
  },
  {
   "cell_type": "code",
   "execution_count": null,
   "id": "70199ffe-7355-4d9a-b6b7-9139f53133a2",
   "metadata": {},
   "outputs": [],
   "source": [
    "tdm_options = {\"tdm_addr\": \"233.252.0.0\", \"tdm_port\": 8596, \"password\": \"ABCDEF\"}"
   ]
  },
  {
   "cell_type": "markdown",
   "id": "499bdb2e-b8d2-433a-892f-c5c4dc60f168",
   "metadata": {},
   "source": [
    "List all the robots connected to the TDM:"
   ]
  },
  {
   "cell_type": "code",
   "execution_count": null,
   "id": "0e2ae11d-0bdf-479a-b494-1921b0dbb673",
   "metadata": {},
   "outputs": [],
   "source": [
    "await tdmclient.notebook.list(**tdm_options)"
   ]
  },
  {
   "cell_type": "markdown",
   "id": "cf25ca2d",
   "metadata": {},
   "source": [
    "Connect to the TDM and start variable synchronization with the first robot."
   ]
  },
  {
   "cell_type": "code",
   "execution_count": null,
   "id": "dfe6604c",
   "metadata": {
    "scrolled": true
   },
   "outputs": [],
   "source": [
    "await tdmclient.notebook.start(**tdm_options)"
   ]
  },
  {
   "cell_type": "markdown",
   "id": "ebdc43ab-0a21-4333-af16-0805cec40908",
   "metadata": {},
   "source": [
    "Run a program which sets the color of the top led. We use a native function here to make it compatible with the simulator available in Thymio Suite."
   ]
  },
  {
   "cell_type": "code",
   "execution_count": null,
   "id": "03e5d08f-d266-4bfc-aaf3-0b4e8e3ef1a3",
   "metadata": {},
   "outputs": [],
   "source": [
    "%%run_python\n",
    "\n",
    "nf_leds_top(0, 0, 32)"
   ]
  },
  {
   "cell_type": "markdown",
   "id": "447ad398-9e34-4417-9085-04390ef87734",
   "metadata": {},
   "source": [
    "Watch the variables. Click the Interrupt button (little black square) when you're done."
   ]
  },
  {
   "cell_type": "code",
   "execution_count": null,
   "id": "66d68add-7131-4978-a5fc-4cc5161b13f2",
   "metadata": {},
   "outputs": [],
   "source": [
    "await tdmclient.notebook.watch()"
   ]
  }
 ],
 "metadata": {
  "kernelspec": {
   "display_name": "Python 3",
   "language": "python",
   "name": "python3"
  },
  "language_info": {
   "codemirror_mode": {
    "name": "ipython",
    "version": 3
   },
   "file_extension": ".py",
   "mimetype": "text/x-python",
   "name": "python",
   "nbconvert_exporter": "python",
   "pygments_lexer": "ipython3",
   "version": "3.8.12"
  }
 },
 "nbformat": 4,
 "nbformat_minor": 5
}
